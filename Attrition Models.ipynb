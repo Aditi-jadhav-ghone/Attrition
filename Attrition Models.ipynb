{
 "cells": [
  {
   "cell_type": "code",
   "execution_count": 40,
   "metadata": {},
   "outputs": [],
   "source": [
    "import pandas as pd\n",
    "import numpy as np\n",
    "import matplotlib.pyplot as plt"
   ]
  },
  {
   "cell_type": "code",
   "execution_count": 41,
   "metadata": {},
   "outputs": [],
   "source": [
    "Result=pd.DataFrame()\n",
    "path = 'Attrition_EDA.csv'\n",
    "data = pd.read_csv(path)"
   ]
  },
  {
   "cell_type": "markdown",
   "metadata": {},
   "source": [
    "### Check data types of each feature"
   ]
  },
  {
   "cell_type": "code",
   "execution_count": 42,
   "metadata": {
    "scrolled": false
   },
   "outputs": [
    {
     "data": {
      "text/plain": [
       "Attrition                    int64\n",
       "Age                          int64\n",
       "BusinessTravel              object\n",
       "DailyRate                    int64\n",
       "Department                  object\n",
       "DistanceFromHome             int64\n",
       "Education                    int64\n",
       "EducationField              object\n",
       "EnvironmentSatisfaction      int64\n",
       "JobInvolvement               int64\n",
       "JobLevel                     int64\n",
       "JobRole                     object\n",
       "JobSatisfaction              int64\n",
       "MaritalStatus               object\n",
       "NumCompaniesWorked           int64\n",
       "OverTime                    object\n",
       "PercentSalaryHike            int64\n",
       "PerformanceRating            int64\n",
       "RelationshipSatisfaction     int64\n",
       "StockOptionLevel             int64\n",
       "WorkLifeBalance              int64\n",
       "YearsAtCompany               int64\n",
       "YearsInCurrentRole           int64\n",
       "dtype: object"
      ]
     },
     "execution_count": 42,
     "metadata": {},
     "output_type": "execute_result"
    }
   ],
   "source": [
    "data.dtypes"
   ]
  },
  {
   "cell_type": "code",
   "execution_count": 43,
   "metadata": {},
   "outputs": [],
   "source": [
    "dummies_data = pd.get_dummies(data ,columns = ['BusinessTravel','Department','EducationField','JobRole','MaritalStatus','OverTime']\n",
    "                    ,drop_first=True)"
   ]
  },
  {
   "cell_type": "code",
   "execution_count": 44,
   "metadata": {},
   "outputs": [],
   "source": [
    "from sklearn.linear_model import Lasso\n",
    "from sklearn.feature_selection import SelectFromModel"
   ]
  },
  {
   "cell_type": "code",
   "execution_count": 45,
   "metadata": {},
   "outputs": [],
   "source": [
    "y=dummies_data[['Attrition']]"
   ]
  },
  {
   "cell_type": "code",
   "execution_count": 46,
   "metadata": {},
   "outputs": [],
   "source": [
    "X=dummies_data.drop(['Attrition'],axis=1)"
   ]
  },
  {
   "cell_type": "code",
   "execution_count": 47,
   "metadata": {},
   "outputs": [],
   "source": [
    "feature_sel_model=SelectFromModel(Lasso(alpha=0.005,random_state=0))"
   ]
  },
  {
   "cell_type": "code",
   "execution_count": 48,
   "metadata": {},
   "outputs": [
    {
     "data": {
      "text/plain": [
       "SelectFromModel(estimator=Lasso(alpha=0.005, copy_X=True, fit_intercept=True, max_iter=1000,\n",
       "   normalize=False, positive=False, precompute=False, random_state=0,\n",
       "   selection='cyclic', tol=0.0001, warm_start=False),\n",
       "        max_features=None, norm_order=1, prefit=False, threshold=None)"
      ]
     },
     "execution_count": 48,
     "metadata": {},
     "output_type": "execute_result"
    }
   ],
   "source": [
    "feature_sel_model.fit(X,y)"
   ]
  },
  {
   "cell_type": "code",
   "execution_count": 49,
   "metadata": {},
   "outputs": [
    {
     "data": {
      "text/plain": [
       "array([ True,  True,  True, False,  True,  True,  True,  True,  True,\n",
       "        True, False,  True,  True,  True,  True,  True,  True, False,\n",
       "        True, False, False, False,  True, False,  True, False,  True,\n",
       "       False, False, False, False, False,  True, False,  True,  True])"
      ]
     },
     "execution_count": 49,
     "metadata": {},
     "output_type": "execute_result"
    }
   ],
   "source": [
    "feature_sel_model.get_support()"
   ]
  },
  {
   "cell_type": "code",
   "execution_count": 50,
   "metadata": {},
   "outputs": [],
   "source": [
    "selected_features=X_train.columns[(feature_sel_model.get_support())]"
   ]
  },
  {
   "cell_type": "code",
   "execution_count": 51,
   "metadata": {},
   "outputs": [
    {
     "data": {
      "text/plain": [
       "Index(['Age', 'DailyRate', 'DistanceFromHome', 'EnvironmentSatisfaction',\n",
       "       'JobInvolvement', 'JobLevel', 'JobSatisfaction', 'NumCompaniesWorked',\n",
       "       'PercentSalaryHike', 'RelationshipSatisfaction', 'StockOptionLevel',\n",
       "       'WorkLifeBalance', 'YearsAtCompany', 'YearsInCurrentRole',\n",
       "       'BusinessTravel_Travel_Frequently', 'Department_Research & Development',\n",
       "       'EducationField_Medical', 'EducationField_Technical Degree',\n",
       "       'JobRole_Laboratory Technician', 'JobRole_Sales Representative',\n",
       "       'MaritalStatus_Single', 'OverTime_Yes'],\n",
       "      dtype='object')"
      ]
     },
     "execution_count": 51,
     "metadata": {},
     "output_type": "execute_result"
    }
   ],
   "source": [
    "selected_features"
   ]
  },
  {
   "cell_type": "raw",
   "metadata": {},
   "source": [
    "#We convert all the features with object data type into categorical data type"
   ]
  },
  {
   "cell_type": "code",
   "execution_count": 10,
   "metadata": {},
   "outputs": [
    {
     "name": "stdout",
     "output_type": "stream",
     "text": [
      "Data Types of all the columns:\n",
      " Attrition                      int64\n",
      "Age                            int64\n",
      "BusinessTravel              category\n",
      "DailyRate                      int64\n",
      "Department                  category\n",
      "DistanceFromHome               int64\n",
      "Education                      int64\n",
      "EducationField              category\n",
      "EnvironmentSatisfaction        int64\n",
      "JobInvolvement                 int64\n",
      "JobLevel                       int64\n",
      "JobRole                     category\n",
      "JobSatisfaction                int64\n",
      "MaritalStatus               category\n",
      "NumCompaniesWorked             int64\n",
      "OverTime                    category\n",
      "PercentSalaryHike              int64\n",
      "PerformanceRating              int64\n",
      "RelationshipSatisfaction       int64\n",
      "StockOptionLevel               int64\n",
      "WorkLifeBalance                int64\n",
      "YearsAtCompany                 int64\n",
      "YearsInCurrentRole             int64\n",
      "dtype: object \n",
      "\n"
     ]
    }
   ],
   "source": [
    "'''\n",
    "con_list=list()\n",
    "con_list=data.columns\n",
    "for i in range(len(con_list)):\n",
    "    if data[con_list[i]].dtype=='object' :\n",
    "        data[con_list[i]] = data[con_list[i]].astype('category')\n",
    "    else:\n",
    "        i=i+1\n",
    "print(\"Data Types of all the columns:\\n\",data.dtypes,\"\\n\")\n",
    "'''\n"
   ]
  },
  {
   "cell_type": "markdown",
   "metadata": {},
   "source": [
    "This function drops all unnecessary features "
   ]
  },
  {
   "cell_type": "code",
   "execution_count": 52,
   "metadata": {},
   "outputs": [],
   "source": [
    "def drop_unnecessary_features(dummies_data):\n",
    "    for feature in dummies_data.columns:\n",
    "        if feature in selected_features:\n",
    "            pass\n",
    "        else:\n",
    "            dummies_data=dummies_data.drop(feature,axis=1)\n",
    "    return dummies_data\n",
    "\n"
   ]
  },
  {
   "cell_type": "code",
   "execution_count": 53,
   "metadata": {},
   "outputs": [],
   "source": [
    "X=drop_unnecessary_features(dummies_data)"
   ]
  },
  {
   "cell_type": "code",
   "execution_count": 54,
   "metadata": {},
   "outputs": [
    {
     "data": {
      "text/plain": [
       "Index(['Age', 'DailyRate', 'DistanceFromHome', 'EnvironmentSatisfaction',\n",
       "       'JobInvolvement', 'JobLevel', 'JobSatisfaction', 'NumCompaniesWorked',\n",
       "       'PercentSalaryHike', 'RelationshipSatisfaction', 'StockOptionLevel',\n",
       "       'WorkLifeBalance', 'YearsAtCompany', 'YearsInCurrentRole',\n",
       "       'BusinessTravel_Travel_Frequently', 'Department_Research & Development',\n",
       "       'EducationField_Medical', 'EducationField_Technical Degree',\n",
       "       'JobRole_Laboratory Technician', 'JobRole_Sales Representative',\n",
       "       'MaritalStatus_Single', 'OverTime_Yes'],\n",
       "      dtype='object')"
      ]
     },
     "execution_count": 54,
     "metadata": {},
     "output_type": "execute_result"
    }
   ],
   "source": [
    "X.columns"
   ]
  },
  {
   "cell_type": "markdown",
   "metadata": {},
   "source": [
    "We separate the dependent feature from the data set \n",
    "X=Independent features\n",
    "y=Dependent feature(target)"
   ]
  },
  {
   "cell_type": "code",
   "execution_count": 35,
   "metadata": {},
   "outputs": [
    {
     "ename": "KeyError",
     "evalue": "\"['Attrition'] not found in axis\"",
     "output_type": "error",
     "traceback": [
      "\u001b[1;31m---------------------------------------------------------------------------\u001b[0m",
      "\u001b[1;31mKeyError\u001b[0m                                  Traceback (most recent call last)",
      "\u001b[1;32m<ipython-input-35-b9ae5f211af4>\u001b[0m in \u001b[0;36m<module>\u001b[1;34m\u001b[0m\n\u001b[1;32m----> 1\u001b[1;33m \u001b[0mX\u001b[0m \u001b[1;33m=\u001b[0m \u001b[0mfinal_features\u001b[0m\u001b[1;33m.\u001b[0m\u001b[0mdrop\u001b[0m\u001b[1;33m(\u001b[0m\u001b[1;34m'Attrition'\u001b[0m\u001b[1;33m,\u001b[0m\u001b[0maxis\u001b[0m\u001b[1;33m=\u001b[0m\u001b[1;36m1\u001b[0m\u001b[1;33m)\u001b[0m\u001b[1;33m.\u001b[0m\u001b[0mvalues\u001b[0m\u001b[1;33m\u001b[0m\u001b[1;33m\u001b[0m\u001b[0m\n\u001b[0m\u001b[0;32m      2\u001b[0m \u001b[0my\u001b[0m \u001b[1;33m=\u001b[0m \u001b[0mfinal_features\u001b[0m\u001b[1;33m[\u001b[0m\u001b[1;34m'Attrition'\u001b[0m\u001b[1;33m]\u001b[0m\u001b[1;33m\u001b[0m\u001b[1;33m\u001b[0m\u001b[0m\n\u001b[0;32m      3\u001b[0m \u001b[1;33m\u001b[0m\u001b[0m\n\u001b[0;32m      4\u001b[0m \u001b[0mprint\u001b[0m\u001b[1;33m(\u001b[0m\u001b[0mX\u001b[0m\u001b[1;33m.\u001b[0m\u001b[0mshape\u001b[0m\u001b[1;33m)\u001b[0m\u001b[1;33m\u001b[0m\u001b[1;33m\u001b[0m\u001b[0m\n\u001b[0;32m      5\u001b[0m \u001b[0mprint\u001b[0m\u001b[1;33m(\u001b[0m\u001b[0my\u001b[0m\u001b[1;33m.\u001b[0m\u001b[0mshape\u001b[0m\u001b[1;33m)\u001b[0m\u001b[1;33m\u001b[0m\u001b[1;33m\u001b[0m\u001b[0m\n",
      "\u001b[1;32m~\\AppData\\Local\\Continuum\\anaconda3\\lib\\site-packages\\pandas\\core\\frame.py\u001b[0m in \u001b[0;36mdrop\u001b[1;34m(self, labels, axis, index, columns, level, inplace, errors)\u001b[0m\n\u001b[0;32m   3938\u001b[0m                                            \u001b[0mindex\u001b[0m\u001b[1;33m=\u001b[0m\u001b[0mindex\u001b[0m\u001b[1;33m,\u001b[0m \u001b[0mcolumns\u001b[0m\u001b[1;33m=\u001b[0m\u001b[0mcolumns\u001b[0m\u001b[1;33m,\u001b[0m\u001b[1;33m\u001b[0m\u001b[1;33m\u001b[0m\u001b[0m\n\u001b[0;32m   3939\u001b[0m                                            \u001b[0mlevel\u001b[0m\u001b[1;33m=\u001b[0m\u001b[0mlevel\u001b[0m\u001b[1;33m,\u001b[0m \u001b[0minplace\u001b[0m\u001b[1;33m=\u001b[0m\u001b[0minplace\u001b[0m\u001b[1;33m,\u001b[0m\u001b[1;33m\u001b[0m\u001b[1;33m\u001b[0m\u001b[0m\n\u001b[1;32m-> 3940\u001b[1;33m                                            errors=errors)\n\u001b[0m\u001b[0;32m   3941\u001b[0m \u001b[1;33m\u001b[0m\u001b[0m\n\u001b[0;32m   3942\u001b[0m     @rewrite_axis_style_signature('mapper', [('copy', True),\n",
      "\u001b[1;32m~\\AppData\\Local\\Continuum\\anaconda3\\lib\\site-packages\\pandas\\core\\generic.py\u001b[0m in \u001b[0;36mdrop\u001b[1;34m(self, labels, axis, index, columns, level, inplace, errors)\u001b[0m\n\u001b[0;32m   3778\u001b[0m         \u001b[1;32mfor\u001b[0m \u001b[0maxis\u001b[0m\u001b[1;33m,\u001b[0m \u001b[0mlabels\u001b[0m \u001b[1;32min\u001b[0m \u001b[0maxes\u001b[0m\u001b[1;33m.\u001b[0m\u001b[0mitems\u001b[0m\u001b[1;33m(\u001b[0m\u001b[1;33m)\u001b[0m\u001b[1;33m:\u001b[0m\u001b[1;33m\u001b[0m\u001b[1;33m\u001b[0m\u001b[0m\n\u001b[0;32m   3779\u001b[0m             \u001b[1;32mif\u001b[0m \u001b[0mlabels\u001b[0m \u001b[1;32mis\u001b[0m \u001b[1;32mnot\u001b[0m \u001b[1;32mNone\u001b[0m\u001b[1;33m:\u001b[0m\u001b[1;33m\u001b[0m\u001b[1;33m\u001b[0m\u001b[0m\n\u001b[1;32m-> 3780\u001b[1;33m                 \u001b[0mobj\u001b[0m \u001b[1;33m=\u001b[0m \u001b[0mobj\u001b[0m\u001b[1;33m.\u001b[0m\u001b[0m_drop_axis\u001b[0m\u001b[1;33m(\u001b[0m\u001b[0mlabels\u001b[0m\u001b[1;33m,\u001b[0m \u001b[0maxis\u001b[0m\u001b[1;33m,\u001b[0m \u001b[0mlevel\u001b[0m\u001b[1;33m=\u001b[0m\u001b[0mlevel\u001b[0m\u001b[1;33m,\u001b[0m \u001b[0merrors\u001b[0m\u001b[1;33m=\u001b[0m\u001b[0merrors\u001b[0m\u001b[1;33m)\u001b[0m\u001b[1;33m\u001b[0m\u001b[1;33m\u001b[0m\u001b[0m\n\u001b[0m\u001b[0;32m   3781\u001b[0m \u001b[1;33m\u001b[0m\u001b[0m\n\u001b[0;32m   3782\u001b[0m         \u001b[1;32mif\u001b[0m \u001b[0minplace\u001b[0m\u001b[1;33m:\u001b[0m\u001b[1;33m\u001b[0m\u001b[1;33m\u001b[0m\u001b[0m\n",
      "\u001b[1;32m~\\AppData\\Local\\Continuum\\anaconda3\\lib\\site-packages\\pandas\\core\\generic.py\u001b[0m in \u001b[0;36m_drop_axis\u001b[1;34m(self, labels, axis, level, errors)\u001b[0m\n\u001b[0;32m   3810\u001b[0m                 \u001b[0mnew_axis\u001b[0m \u001b[1;33m=\u001b[0m \u001b[0maxis\u001b[0m\u001b[1;33m.\u001b[0m\u001b[0mdrop\u001b[0m\u001b[1;33m(\u001b[0m\u001b[0mlabels\u001b[0m\u001b[1;33m,\u001b[0m \u001b[0mlevel\u001b[0m\u001b[1;33m=\u001b[0m\u001b[0mlevel\u001b[0m\u001b[1;33m,\u001b[0m \u001b[0merrors\u001b[0m\u001b[1;33m=\u001b[0m\u001b[0merrors\u001b[0m\u001b[1;33m)\u001b[0m\u001b[1;33m\u001b[0m\u001b[1;33m\u001b[0m\u001b[0m\n\u001b[0;32m   3811\u001b[0m             \u001b[1;32melse\u001b[0m\u001b[1;33m:\u001b[0m\u001b[1;33m\u001b[0m\u001b[1;33m\u001b[0m\u001b[0m\n\u001b[1;32m-> 3812\u001b[1;33m                 \u001b[0mnew_axis\u001b[0m \u001b[1;33m=\u001b[0m \u001b[0maxis\u001b[0m\u001b[1;33m.\u001b[0m\u001b[0mdrop\u001b[0m\u001b[1;33m(\u001b[0m\u001b[0mlabels\u001b[0m\u001b[1;33m,\u001b[0m \u001b[0merrors\u001b[0m\u001b[1;33m=\u001b[0m\u001b[0merrors\u001b[0m\u001b[1;33m)\u001b[0m\u001b[1;33m\u001b[0m\u001b[1;33m\u001b[0m\u001b[0m\n\u001b[0m\u001b[0;32m   3813\u001b[0m             \u001b[0mresult\u001b[0m \u001b[1;33m=\u001b[0m \u001b[0mself\u001b[0m\u001b[1;33m.\u001b[0m\u001b[0mreindex\u001b[0m\u001b[1;33m(\u001b[0m\u001b[1;33m**\u001b[0m\u001b[1;33m{\u001b[0m\u001b[0maxis_name\u001b[0m\u001b[1;33m:\u001b[0m \u001b[0mnew_axis\u001b[0m\u001b[1;33m}\u001b[0m\u001b[1;33m)\u001b[0m\u001b[1;33m\u001b[0m\u001b[1;33m\u001b[0m\u001b[0m\n\u001b[0;32m   3814\u001b[0m \u001b[1;33m\u001b[0m\u001b[0m\n",
      "\u001b[1;32m~\\AppData\\Local\\Continuum\\anaconda3\\lib\\site-packages\\pandas\\core\\indexes\\base.py\u001b[0m in \u001b[0;36mdrop\u001b[1;34m(self, labels, errors)\u001b[0m\n\u001b[0;32m   4963\u001b[0m             \u001b[1;32mif\u001b[0m \u001b[0merrors\u001b[0m \u001b[1;33m!=\u001b[0m \u001b[1;34m'ignore'\u001b[0m\u001b[1;33m:\u001b[0m\u001b[1;33m\u001b[0m\u001b[1;33m\u001b[0m\u001b[0m\n\u001b[0;32m   4964\u001b[0m                 raise KeyError(\n\u001b[1;32m-> 4965\u001b[1;33m                     '{} not found in axis'.format(labels[mask]))\n\u001b[0m\u001b[0;32m   4966\u001b[0m             \u001b[0mindexer\u001b[0m \u001b[1;33m=\u001b[0m \u001b[0mindexer\u001b[0m\u001b[1;33m[\u001b[0m\u001b[1;33m~\u001b[0m\u001b[0mmask\u001b[0m\u001b[1;33m]\u001b[0m\u001b[1;33m\u001b[0m\u001b[1;33m\u001b[0m\u001b[0m\n\u001b[0;32m   4967\u001b[0m         \u001b[1;32mreturn\u001b[0m \u001b[0mself\u001b[0m\u001b[1;33m.\u001b[0m\u001b[0mdelete\u001b[0m\u001b[1;33m(\u001b[0m\u001b[0mindexer\u001b[0m\u001b[1;33m)\u001b[0m\u001b[1;33m\u001b[0m\u001b[1;33m\u001b[0m\u001b[0m\n",
      "\u001b[1;31mKeyError\u001b[0m: \"['Attrition'] not found in axis\""
     ]
    }
   ],
   "source": [
    "'''X = final_features.drop('Attrition',axis=1).values\n",
    "y = final_features['Attrition']\n",
    "\n",
    "print(X.shape)\n",
    "print(y.shape)'''"
   ]
  },
  {
   "cell_type": "code",
   "execution_count": 55,
   "metadata": {},
   "outputs": [
    {
     "name": "stdout",
     "output_type": "stream",
     "text": [
      "[[ 0.4463504   0.74252653 -1.01090934 ... -0.24462499  1.45864991\n",
      "   1.59174553]\n",
      " [ 1.32236521 -1.2977746  -0.14714972 ... -0.24462499 -0.68556546\n",
      "  -0.62824112]\n",
      " [ 0.008343    1.41436324 -0.88751511 ... -0.24462499  1.45864991\n",
      "   1.59174553]\n",
      " ...\n",
      " [-1.08667552 -1.60518328 -0.64072665 ... -0.24462499 -0.68556546\n",
      "   1.59174553]\n",
      " [ 1.32236521  0.54667746 -0.88751511 ... -0.24462499 -0.68556546\n",
      "  -0.62824112]\n",
      " [-0.32016256 -0.43256792 -0.14714972 ... -0.24462499 -0.68556546\n",
      "  -0.62824112]]\n"
     ]
    },
    {
     "name": "stderr",
     "output_type": "stream",
     "text": [
      "C:\\Users\\lenovo\\AppData\\Local\\Continuum\\anaconda3\\lib\\site-packages\\sklearn\\preprocessing\\data.py:645: DataConversionWarning: Data with input dtype uint8, int64 were all converted to float64 by StandardScaler.\n",
      "  return self.partial_fit(X, y)\n",
      "C:\\Users\\lenovo\\AppData\\Local\\Continuum\\anaconda3\\lib\\site-packages\\sklearn\\base.py:464: DataConversionWarning: Data with input dtype uint8, int64 were all converted to float64 by StandardScaler.\n",
      "  return self.fit(X, **fit_params).transform(X)\n"
     ]
    }
   ],
   "source": [
    "from sklearn.preprocessing import StandardScaler\n",
    "scl = StandardScaler()\n",
    "X = scl.fit_transform(X)\n",
    "print(X)"
   ]
  },
  {
   "cell_type": "code",
   "execution_count": 56,
   "metadata": {},
   "outputs": [],
   "source": [
    "from sklearn.model_selection import train_test_split"
   ]
  },
  {
   "cell_type": "code",
   "execution_count": 57,
   "metadata": {},
   "outputs": [
    {
     "name": "stdout",
     "output_type": "stream",
     "text": [
      "(1029, 22)\n",
      "(441, 22)\n",
      "(1029, 1)\n",
      "(441, 1)\n"
     ]
    }
   ],
   "source": [
    "X_train,X_test,y_train,y_test = train_test_split(X,y,test_size = 0.3, random_state = 0)\n",
    "\n",
    "print(X_train.shape)\n",
    "print(X_test.shape)\n",
    "print(y_train.shape)\n",
    "print(y_test.shape)"
   ]
  },
  {
   "cell_type": "code",
   "execution_count": 58,
   "metadata": {},
   "outputs": [],
   "source": [
    "from sklearn.model_selection import KFold\n",
    "from sklearn.model_selection import cross_val_score\n",
    "from sklearn.linear_model import LogisticRegression\n",
    "from sklearn.metrics import confusion_matrix, accuracy_score, classification_report"
   ]
  },
  {
   "cell_type": "markdown",
   "metadata": {},
   "source": [
    "# Logistic Regression"
   ]
  },
  {
   "cell_type": "code",
   "execution_count": 59,
   "metadata": {},
   "outputs": [
    {
     "name": "stderr",
     "output_type": "stream",
     "text": [
      "C:\\Users\\lenovo\\AppData\\Local\\Continuum\\anaconda3\\lib\\site-packages\\sklearn\\linear_model\\logistic.py:433: FutureWarning: Default solver will be changed to 'lbfgs' in 0.22. Specify a solver to silence this warning.\n",
      "  FutureWarning)\n",
      "C:\\Users\\lenovo\\AppData\\Local\\Continuum\\anaconda3\\lib\\site-packages\\sklearn\\utils\\validation.py:761: DataConversionWarning: A column-vector y was passed when a 1d array was expected. Please change the shape of y to (n_samples, ), for example using ravel().\n",
      "  y = column_or_1d(y, warn=True)\n"
     ]
    },
    {
     "data": {
      "text/plain": [
       "LogisticRegression(C=1.0, class_weight=None, dual=False, fit_intercept=True,\n",
       "          intercept_scaling=1, max_iter=100, multi_class='warn',\n",
       "          n_jobs=None, penalty='l2', random_state=None, solver='warn',\n",
       "          tol=0.0001, verbose=0, warm_start=False)"
      ]
     },
     "execution_count": 59,
     "metadata": {},
     "output_type": "execute_result"
    }
   ],
   "source": [
    "logreg = LogisticRegression()\n",
    "\n",
    "logreg.fit(X_train,y_train)"
   ]
  },
  {
   "cell_type": "code",
   "execution_count": 60,
   "metadata": {},
   "outputs": [],
   "source": [
    "fold = KFold(n_splits=10, shuffle=True, random_state=10)"
   ]
  },
  {
   "cell_type": "code",
   "execution_count": 61,
   "metadata": {},
   "outputs": [
    {
     "name": "stderr",
     "output_type": "stream",
     "text": [
      "C:\\Users\\lenovo\\AppData\\Local\\Continuum\\anaconda3\\lib\\site-packages\\sklearn\\linear_model\\logistic.py:433: FutureWarning: Default solver will be changed to 'lbfgs' in 0.22. Specify a solver to silence this warning.\n",
      "  FutureWarning)\n",
      "C:\\Users\\lenovo\\AppData\\Local\\Continuum\\anaconda3\\lib\\site-packages\\sklearn\\utils\\validation.py:761: DataConversionWarning: A column-vector y was passed when a 1d array was expected. Please change the shape of y to (n_samples, ), for example using ravel().\n",
      "  y = column_or_1d(y, warn=True)\n",
      "C:\\Users\\lenovo\\AppData\\Local\\Continuum\\anaconda3\\lib\\site-packages\\sklearn\\linear_model\\logistic.py:433: FutureWarning: Default solver will be changed to 'lbfgs' in 0.22. Specify a solver to silence this warning.\n",
      "  FutureWarning)\n",
      "C:\\Users\\lenovo\\AppData\\Local\\Continuum\\anaconda3\\lib\\site-packages\\sklearn\\utils\\validation.py:761: DataConversionWarning: A column-vector y was passed when a 1d array was expected. Please change the shape of y to (n_samples, ), for example using ravel().\n",
      "  y = column_or_1d(y, warn=True)\n",
      "C:\\Users\\lenovo\\AppData\\Local\\Continuum\\anaconda3\\lib\\site-packages\\sklearn\\linear_model\\logistic.py:433: FutureWarning: Default solver will be changed to 'lbfgs' in 0.22. Specify a solver to silence this warning.\n",
      "  FutureWarning)\n",
      "C:\\Users\\lenovo\\AppData\\Local\\Continuum\\anaconda3\\lib\\site-packages\\sklearn\\utils\\validation.py:761: DataConversionWarning: A column-vector y was passed when a 1d array was expected. Please change the shape of y to (n_samples, ), for example using ravel().\n",
      "  y = column_or_1d(y, warn=True)\n",
      "C:\\Users\\lenovo\\AppData\\Local\\Continuum\\anaconda3\\lib\\site-packages\\sklearn\\linear_model\\logistic.py:433: FutureWarning: Default solver will be changed to 'lbfgs' in 0.22. Specify a solver to silence this warning.\n",
      "  FutureWarning)\n"
     ]
    },
    {
     "name": "stdout",
     "output_type": "stream",
     "text": [
      "[0.91262136 0.85436893 0.89320388 0.86407767 0.82524272 0.9223301\n",
      " 0.88349515 0.81553398 0.86407767 0.88235294]\n",
      "0.8717304397487151\n"
     ]
    },
    {
     "name": "stderr",
     "output_type": "stream",
     "text": [
      "C:\\Users\\lenovo\\AppData\\Local\\Continuum\\anaconda3\\lib\\site-packages\\sklearn\\utils\\validation.py:761: DataConversionWarning: A column-vector y was passed when a 1d array was expected. Please change the shape of y to (n_samples, ), for example using ravel().\n",
      "  y = column_or_1d(y, warn=True)\n",
      "C:\\Users\\lenovo\\AppData\\Local\\Continuum\\anaconda3\\lib\\site-packages\\sklearn\\linear_model\\logistic.py:433: FutureWarning: Default solver will be changed to 'lbfgs' in 0.22. Specify a solver to silence this warning.\n",
      "  FutureWarning)\n",
      "C:\\Users\\lenovo\\AppData\\Local\\Continuum\\anaconda3\\lib\\site-packages\\sklearn\\utils\\validation.py:761: DataConversionWarning: A column-vector y was passed when a 1d array was expected. Please change the shape of y to (n_samples, ), for example using ravel().\n",
      "  y = column_or_1d(y, warn=True)\n",
      "C:\\Users\\lenovo\\AppData\\Local\\Continuum\\anaconda3\\lib\\site-packages\\sklearn\\linear_model\\logistic.py:433: FutureWarning: Default solver will be changed to 'lbfgs' in 0.22. Specify a solver to silence this warning.\n",
      "  FutureWarning)\n",
      "C:\\Users\\lenovo\\AppData\\Local\\Continuum\\anaconda3\\lib\\site-packages\\sklearn\\utils\\validation.py:761: DataConversionWarning: A column-vector y was passed when a 1d array was expected. Please change the shape of y to (n_samples, ), for example using ravel().\n",
      "  y = column_or_1d(y, warn=True)\n",
      "C:\\Users\\lenovo\\AppData\\Local\\Continuum\\anaconda3\\lib\\site-packages\\sklearn\\linear_model\\logistic.py:433: FutureWarning: Default solver will be changed to 'lbfgs' in 0.22. Specify a solver to silence this warning.\n",
      "  FutureWarning)\n",
      "C:\\Users\\lenovo\\AppData\\Local\\Continuum\\anaconda3\\lib\\site-packages\\sklearn\\utils\\validation.py:761: DataConversionWarning: A column-vector y was passed when a 1d array was expected. Please change the shape of y to (n_samples, ), for example using ravel().\n",
      "  y = column_or_1d(y, warn=True)\n",
      "C:\\Users\\lenovo\\AppData\\Local\\Continuum\\anaconda3\\lib\\site-packages\\sklearn\\linear_model\\logistic.py:433: FutureWarning: Default solver will be changed to 'lbfgs' in 0.22. Specify a solver to silence this warning.\n",
      "  FutureWarning)\n",
      "C:\\Users\\lenovo\\AppData\\Local\\Continuum\\anaconda3\\lib\\site-packages\\sklearn\\utils\\validation.py:761: DataConversionWarning: A column-vector y was passed when a 1d array was expected. Please change the shape of y to (n_samples, ), for example using ravel().\n",
      "  y = column_or_1d(y, warn=True)\n",
      "C:\\Users\\lenovo\\AppData\\Local\\Continuum\\anaconda3\\lib\\site-packages\\sklearn\\linear_model\\logistic.py:433: FutureWarning: Default solver will be changed to 'lbfgs' in 0.22. Specify a solver to silence this warning.\n",
      "  FutureWarning)\n",
      "C:\\Users\\lenovo\\AppData\\Local\\Continuum\\anaconda3\\lib\\site-packages\\sklearn\\utils\\validation.py:761: DataConversionWarning: A column-vector y was passed when a 1d array was expected. Please change the shape of y to (n_samples, ), for example using ravel().\n",
      "  y = column_or_1d(y, warn=True)\n",
      "C:\\Users\\lenovo\\AppData\\Local\\Continuum\\anaconda3\\lib\\site-packages\\sklearn\\linear_model\\logistic.py:433: FutureWarning: Default solver will be changed to 'lbfgs' in 0.22. Specify a solver to silence this warning.\n",
      "  FutureWarning)\n",
      "C:\\Users\\lenovo\\AppData\\Local\\Continuum\\anaconda3\\lib\\site-packages\\sklearn\\utils\\validation.py:761: DataConversionWarning: A column-vector y was passed when a 1d array was expected. Please change the shape of y to (n_samples, ), for example using ravel().\n",
      "  y = column_or_1d(y, warn=True)\n"
     ]
    }
   ],
   "source": [
    "accuracies = cross_val_score(estimator=logreg,X=X_train,y=y_train,cv=fold)\n",
    "print(accuracies)\n",
    "\n",
    "print(np.mean(accuracies))"
   ]
  },
  {
   "cell_type": "code",
   "execution_count": null,
   "metadata": {},
   "outputs": [],
   "source": [
    "[0.82954545 0.875      0.81818182 0.90909091 0.93103448 0.86206897\n",
    " 0.86206897 0.86206897 0.85057471 0.88505747]\n",
    "0.8684691745036573\n",
    "\n",
    "After applying lasso regression the accuracy has been increased\n",
    "\n",
    "[0.91262136 0.85436893 0.89320388 0.86407767 0.82524272 0.9223301\n",
    " 0.88349515 0.81553398 0.86407767 0.88235294]\n",
    "0.8717304397487151"
   ]
  },
  {
   "cell_type": "code",
   "execution_count": null,
   "metadata": {},
   "outputs": [],
   "source": [
    "[0.87378641 0.85436893 0.86407767 0.83495146 0.84466019 0.95145631\n",
    " 0.89320388 0.84466019 0.9223301  0.89215686]\n",
    "0.8775652008376167\n",
    "\n",
    "[0.87378641 0.85436893 0.86407767 0.83495146 0.84466019 0.95145631\n",
    " 0.89320388 0.84466019 0.9223301  0.89215686]\n",
    "0.8775652008376167"
   ]
  },
  {
   "cell_type": "code",
   "execution_count": 62,
   "metadata": {},
   "outputs": [
    {
     "name": "stdout",
     "output_type": "stream",
     "text": [
      "0.8901846452866861\n",
      "              precision    recall  f1-score   support\n",
      "\n",
      "           0       0.90      0.98      0.94       862\n",
      "           1       0.83      0.41      0.55       167\n",
      "\n",
      "   micro avg       0.89      0.89      0.89      1029\n",
      "   macro avg       0.86      0.70      0.74      1029\n",
      "weighted avg       0.88      0.89      0.87      1029\n",
      "\n",
      "[[848  14]\n",
      " [ 99  68]]\n"
     ]
    }
   ],
   "source": [
    "y_train_pred = logreg.predict(X_train)\n",
    "y_train_pred.shape\n",
    "\n",
    "print(accuracy_score(y_train, y_train_pred, normalize=True, sample_weight=None))\n",
    "\n",
    "print(classification_report(y_train, y_train_pred))\n",
    "\n",
    "print(confusion_matrix(y_train, y_train_pred))"
   ]
  },
  {
   "cell_type": "code",
   "execution_count": 63,
   "metadata": {},
   "outputs": [
    {
     "name": "stdout",
     "output_type": "stream",
     "text": [
      "0.8843537414965986\n",
      "              precision    recall  f1-score   support\n",
      "\n",
      "           0       0.90      0.97      0.93       371\n",
      "           1       0.73      0.43      0.54        70\n",
      "\n",
      "   micro avg       0.88      0.88      0.88       441\n",
      "   macro avg       0.82      0.70      0.74       441\n",
      "weighted avg       0.87      0.88      0.87       441\n",
      "\n",
      "[[360  11]\n",
      " [ 40  30]]\n"
     ]
    }
   ],
   "source": [
    "y_test_pred = logreg.predict(X_test)\n",
    "y_test_pred.shape\n",
    "\n",
    "print(accuracy_score(y_test, y_test_pred, normalize=True, sample_weight=None))\n",
    "\n",
    "print(classification_report(y_test, y_test_pred))\n",
    "\n",
    "print(confusion_matrix(y_test, y_test_pred))"
   ]
  },
  {
   "cell_type": "markdown",
   "metadata": {},
   "source": [
    "# KNN"
   ]
  },
  {
   "cell_type": "code",
   "execution_count": 64,
   "metadata": {},
   "outputs": [],
   "source": [
    "from sklearn.neighbors import KNeighborsClassifier\n",
    "from sklearn import metrics \n",
    "knn=KNeighborsClassifier(n_neighbors=4)"
   ]
  },
  {
   "cell_type": "code",
   "execution_count": 65,
   "metadata": {},
   "outputs": [
    {
     "name": "stderr",
     "output_type": "stream",
     "text": [
      "C:\\Users\\lenovo\\AppData\\Local\\Continuum\\anaconda3\\lib\\site-packages\\ipykernel_launcher.py:1: DataConversionWarning: A column-vector y was passed when a 1d array was expected. Please change the shape of y to (n_samples, ), for example using ravel().\n",
      "  \"\"\"Entry point for launching an IPython kernel.\n"
     ]
    },
    {
     "data": {
      "text/plain": [
       "KNeighborsClassifier(algorithm='auto', leaf_size=30, metric='minkowski',\n",
       "           metric_params=None, n_jobs=None, n_neighbors=4, p=2,\n",
       "           weights='uniform')"
      ]
     },
     "execution_count": 65,
     "metadata": {},
     "output_type": "execute_result"
    }
   ],
   "source": [
    "knn.fit(X_train,y_train)"
   ]
  },
  {
   "cell_type": "code",
   "execution_count": 66,
   "metadata": {},
   "outputs": [
    {
     "name": "stdout",
     "output_type": "stream",
     "text": [
      "0.8458049886621315\n",
      "Test accuracy: \n",
      " 0.8458049886621315\n"
     ]
    }
   ],
   "source": [
    "y_test_pred = knn.predict(X_test)\n",
    "print(metrics.accuracy_score(y_test,y_test_pred))\n",
    "print(\"Test accuracy: \\n\",knn.score(X_test,y_test))"
   ]
  },
  {
   "cell_type": "markdown",
   "metadata": {},
   "source": [
    "before applying lasso regression\n",
    "0.8213333333333334\n",
    "Test accuracy: \n",
    " 0.8213333333333334\n",
    "\n",
    "after applying lasso regression\n",
    "\n",
    "0.8458049886621315\n",
    "Test accuracy: \n",
    " 0.8458049886621315"
   ]
  },
  {
   "cell_type": "code",
   "execution_count": 67,
   "metadata": {},
   "outputs": [
    {
     "name": "stdout",
     "output_type": "stream",
     "text": [
      "0.8561710398445093\n",
      "Train accuracy :\n",
      " 0.8561710398445093\n"
     ]
    }
   ],
   "source": [
    "y_train_pred=knn.predict(X_train)\n",
    "print(metrics.accuracy_score(y_train,y_train_pred))\n",
    "print(\"Train accuracy :\\n\",knn.score(X_train,y_train))"
   ]
  },
  {
   "cell_type": "markdown",
   "metadata": {},
   "source": [
    "before applying lasso regression\n",
    "\n",
    "0.8535469107551488\n",
    "Train accuracy :\n",
    " 0.8535469107551488\n",
    "\n",
    "after applying lasso regression\n",
    "\n",
    "0.8561710398445093\n",
    "Train accuracy :\n",
    " 0.8561710398445093"
   ]
  },
  {
   "cell_type": "code",
   "execution_count": 68,
   "metadata": {},
   "outputs": [
    {
     "name": "stdout",
     "output_type": "stream",
     "text": [
      "[0.86627907 0.8372093  0.79651163 0.86549708 0.81871345 0.86549708]\n"
     ]
    },
    {
     "name": "stderr",
     "output_type": "stream",
     "text": [
      "C:\\Users\\lenovo\\AppData\\Local\\Continuum\\anaconda3\\lib\\site-packages\\sklearn\\model_selection\\_validation.py:528: DataConversionWarning: A column-vector y was passed when a 1d array was expected. Please change the shape of y to (n_samples, ), for example using ravel().\n",
      "  estimator.fit(X_train, y_train, **fit_params)\n",
      "C:\\Users\\lenovo\\AppData\\Local\\Continuum\\anaconda3\\lib\\site-packages\\sklearn\\model_selection\\_validation.py:528: DataConversionWarning: A column-vector y was passed when a 1d array was expected. Please change the shape of y to (n_samples, ), for example using ravel().\n",
      "  estimator.fit(X_train, y_train, **fit_params)\n",
      "C:\\Users\\lenovo\\AppData\\Local\\Continuum\\anaconda3\\lib\\site-packages\\sklearn\\model_selection\\_validation.py:528: DataConversionWarning: A column-vector y was passed when a 1d array was expected. Please change the shape of y to (n_samples, ), for example using ravel().\n",
      "  estimator.fit(X_train, y_train, **fit_params)\n",
      "C:\\Users\\lenovo\\AppData\\Local\\Continuum\\anaconda3\\lib\\site-packages\\sklearn\\model_selection\\_validation.py:528: DataConversionWarning: A column-vector y was passed when a 1d array was expected. Please change the shape of y to (n_samples, ), for example using ravel().\n",
      "  estimator.fit(X_train, y_train, **fit_params)\n",
      "C:\\Users\\lenovo\\AppData\\Local\\Continuum\\anaconda3\\lib\\site-packages\\sklearn\\model_selection\\_validation.py:528: DataConversionWarning: A column-vector y was passed when a 1d array was expected. Please change the shape of y to (n_samples, ), for example using ravel().\n",
      "  estimator.fit(X_train, y_train, **fit_params)\n",
      "C:\\Users\\lenovo\\AppData\\Local\\Continuum\\anaconda3\\lib\\site-packages\\sklearn\\model_selection\\_validation.py:528: DataConversionWarning: A column-vector y was passed when a 1d array was expected. Please change the shape of y to (n_samples, ), for example using ravel().\n",
      "  estimator.fit(X_train, y_train, **fit_params)\n"
     ]
    }
   ],
   "source": [
    "#perform k-fold cross validation with n_splits=6\n",
    "\n",
    "folds = KFold(n_splits=6,shuffle=True,random_state=10)\n",
    "\n",
    "scores = cross_val_score(estimator=knn,X=X_train,y=y_train,cv=folds)\n",
    "\n",
    "print(scores)"
   ]
  },
  {
   "cell_type": "markdown",
   "metadata": {},
   "source": [
    "before applying lasso regression\n",
    "\n",
    "[0.84246575 0.84246575 0.80821918 0.85616438 0.82758621 0.80689655]\n",
    "\n",
    "after applying lasso regression\n",
    "\n",
    "[0.86627907 0.8372093  0.79651163 0.86549708 0.81871345 0.86549708]\n"
   ]
  },
  {
   "cell_type": "code",
   "execution_count": 69,
   "metadata": {},
   "outputs": [],
   "source": [
    "neighbors = np.arange(1, 9)\n",
    "\n",
    "#empty arrays to hold train & test accuracies\n",
    "train_accuracy = np.empty(len(neighbors))\n",
    "test_accuracy = np.empty(len(neighbors))"
   ]
  },
  {
   "cell_type": "code",
   "execution_count": 70,
   "metadata": {},
   "outputs": [
    {
     "name": "stderr",
     "output_type": "stream",
     "text": [
      "C:\\Users\\lenovo\\AppData\\Local\\Continuum\\anaconda3\\lib\\site-packages\\ipykernel_launcher.py:3: DataConversionWarning: A column-vector y was passed when a 1d array was expected. Please change the shape of y to (n_samples, ), for example using ravel().\n",
      "  This is separate from the ipykernel package so we can avoid doing imports until\n",
      "C:\\Users\\lenovo\\AppData\\Local\\Continuum\\anaconda3\\lib\\site-packages\\ipykernel_launcher.py:3: DataConversionWarning: A column-vector y was passed when a 1d array was expected. Please change the shape of y to (n_samples, ), for example using ravel().\n",
      "  This is separate from the ipykernel package so we can avoid doing imports until\n",
      "C:\\Users\\lenovo\\AppData\\Local\\Continuum\\anaconda3\\lib\\site-packages\\ipykernel_launcher.py:3: DataConversionWarning: A column-vector y was passed when a 1d array was expected. Please change the shape of y to (n_samples, ), for example using ravel().\n",
      "  This is separate from the ipykernel package so we can avoid doing imports until\n",
      "C:\\Users\\lenovo\\AppData\\Local\\Continuum\\anaconda3\\lib\\site-packages\\ipykernel_launcher.py:3: DataConversionWarning: A column-vector y was passed when a 1d array was expected. Please change the shape of y to (n_samples, ), for example using ravel().\n",
      "  This is separate from the ipykernel package so we can avoid doing imports until\n",
      "C:\\Users\\lenovo\\AppData\\Local\\Continuum\\anaconda3\\lib\\site-packages\\ipykernel_launcher.py:3: DataConversionWarning: A column-vector y was passed when a 1d array was expected. Please change the shape of y to (n_samples, ), for example using ravel().\n",
      "  This is separate from the ipykernel package so we can avoid doing imports until\n",
      "C:\\Users\\lenovo\\AppData\\Local\\Continuum\\anaconda3\\lib\\site-packages\\ipykernel_launcher.py:3: DataConversionWarning: A column-vector y was passed when a 1d array was expected. Please change the shape of y to (n_samples, ), for example using ravel().\n",
      "  This is separate from the ipykernel package so we can avoid doing imports until\n",
      "C:\\Users\\lenovo\\AppData\\Local\\Continuum\\anaconda3\\lib\\site-packages\\ipykernel_launcher.py:3: DataConversionWarning: A column-vector y was passed when a 1d array was expected. Please change the shape of y to (n_samples, ), for example using ravel().\n",
      "  This is separate from the ipykernel package so we can avoid doing imports until\n",
      "C:\\Users\\lenovo\\AppData\\Local\\Continuum\\anaconda3\\lib\\site-packages\\ipykernel_launcher.py:3: DataConversionWarning: A column-vector y was passed when a 1d array was expected. Please change the shape of y to (n_samples, ), for example using ravel().\n",
      "  This is separate from the ipykernel package so we can avoid doing imports until\n"
     ]
    },
    {
     "data": {
      "image/png": "[encoded data removed]",
      "text/plain": [
       "<Figure size 432x288 with 1 Axes>"
      ]
     },
     "metadata": {
      "needs_background": "light"
     },
     "output_type": "display_data"
    }
   ],
   "source": [
    "for i, k in enumerate(neighbors):\n",
    "    knn = KNeighborsClassifier(n_neighbors=k)\n",
    "    knn.fit(X_train,y_train) \n",
    "    train_accuracy[i] = knn.score(X_train,y_train)\n",
    "    test_accuracy[i] = knn.score(X_test, y_test)\n",
    "    \n",
    "plt.title('k-NN: Varying Number of Neighbors')\n",
    "plt.plot(neighbors, test_accuracy, label = 'Testing Accuracy')\n",
    "plt.plot(neighbors, train_accuracy, label = 'Training Accuracy')\n",
    "plt.legend()\n",
    "plt.xlabel('Number of Neighbors')\n",
    "plt.ylabel('Accuracy')\n",
    "plt.show()\n"
   ]
  },
  {
   "attachments": {
    "image.png": {
     "image/png": "[encoded data removed]"
    }
   },
   "cell_type": "markdown",
   "metadata": {},
   "source": [
    "Before applying Lasso regression\n",
    "\n",
    "![image.png](attachment:image.png)\n",
    "\n",
    "After applying Lasso regression\n",
    "\n",
    "![image.png](attachment:image.png)"
   ]
  },
  {
   "cell_type": "code",
   "execution_count": 71,
   "metadata": {},
   "outputs": [
    {
     "name": "stderr",
     "output_type": "stream",
     "text": [
      "C:\\Users\\lenovo\\AppData\\Local\\Continuum\\anaconda3\\lib\\site-packages\\ipykernel_launcher.py:2: DataConversionWarning: A column-vector y was passed when a 1d array was expected. Please change the shape of y to (n_samples, ), for example using ravel().\n",
      "  \n",
      "C:\\Users\\lenovo\\AppData\\Local\\Continuum\\anaconda3\\lib\\site-packages\\sklearn\\model_selection\\_validation.py:528: DataConversionWarning: A column-vector y was passed when a 1d array was expected. Please change the shape of y to (n_samples, ), for example using ravel().\n",
      "  estimator.fit(X_train, y_train, **fit_params)\n"
     ]
    },
    {
     "name": "stdout",
     "output_type": "stream",
     "text": [
      "0.8756073858114675\n",
      "0.8454984608098508\n",
      "0.8480725623582767\n"
     ]
    },
    {
     "name": "stderr",
     "output_type": "stream",
     "text": [
      "C:\\Users\\lenovo\\AppData\\Local\\Continuum\\anaconda3\\lib\\site-packages\\sklearn\\model_selection\\_validation.py:528: DataConversionWarning: A column-vector y was passed when a 1d array was expected. Please change the shape of y to (n_samples, ), for example using ravel().\n",
      "  estimator.fit(X_train, y_train, **fit_params)\n",
      "C:\\Users\\lenovo\\AppData\\Local\\Continuum\\anaconda3\\lib\\site-packages\\sklearn\\model_selection\\_validation.py:528: DataConversionWarning: A column-vector y was passed when a 1d array was expected. Please change the shape of y to (n_samples, ), for example using ravel().\n",
      "  estimator.fit(X_train, y_train, **fit_params)\n",
      "C:\\Users\\lenovo\\AppData\\Local\\Continuum\\anaconda3\\lib\\site-packages\\sklearn\\model_selection\\_validation.py:528: DataConversionWarning: A column-vector y was passed when a 1d array was expected. Please change the shape of y to (n_samples, ), for example using ravel().\n",
      "  estimator.fit(X_train, y_train, **fit_params)\n",
      "C:\\Users\\lenovo\\AppData\\Local\\Continuum\\anaconda3\\lib\\site-packages\\sklearn\\model_selection\\_validation.py:528: DataConversionWarning: A column-vector y was passed when a 1d array was expected. Please change the shape of y to (n_samples, ), for example using ravel().\n",
      "  estimator.fit(X_train, y_train, **fit_params)\n"
     ]
    }
   ],
   "source": [
    "knn = KNeighborsClassifier(n_neighbors=5)\n",
    "knn.fit(X_train,y_train)\n",
    "training_score = knn.score(X_train,y_train)\n",
    "test_score = knn.score(X_test,y_test)\n",
    "\n",
    "folds = KFold(n_splits=5,shuffle=True,random_state=10)\n",
    "scores = cross_val_score(estimator=knn,X=X_train,y=y_train,cv=folds)\n",
    "\n",
    "\n",
    "print(training_score)\n",
    "print(np.mean(scores))\n",
    "print(test_score)"
   ]
  },
  {
   "cell_type": "markdown",
   "metadata": {},
   "source": [
    "Before applying Lasso regression\n",
    "0.8649885583524027\n",
    "0.8306469622331691\n",
    "0.8213333333333334\n",
    "\n",
    "After applying Lasso regression\n",
    "\n",
    "0.8756073858114675\n",
    "0.8454984608098508\n",
    "0.8480725623582767"
   ]
  },
  {
   "cell_type": "markdown",
   "metadata": {},
   "source": [
    "# Naive Bayes"
   ]
  },
  {
   "cell_type": "code",
   "execution_count": 38,
   "metadata": {},
   "outputs": [
    {
     "name": "stdout",
     "output_type": "stream",
     "text": [
      "Accuracy :  0.768\n",
      "Precision :  0.35135135135135137\n",
      "Recall :  0.4\n",
      "f1_score :  0.3741007194244604\n",
      "              precision    recall  f1-score   support\n",
      "\n",
      "           0       0.87      0.85      0.86       310\n",
      "           1       0.35      0.40      0.37        65\n",
      "\n",
      "   micro avg       0.77      0.77      0.77       375\n",
      "   macro avg       0.61      0.62      0.62       375\n",
      "weighted avg       0.78      0.77      0.77       375\n",
      "\n"
     ]
    }
   ],
   "source": [
    "#now since the  features are contineos, lets create a GaussianNB Naive Bayes models\n",
    "\n",
    "#Write the code to import  GaussianNB from sklearn.naive_bayes\n",
    "\n",
    "from sklearn.naive_bayes import GaussianNB\n",
    "\n",
    "#Write the code to create NaiveBayes model object using GaussianNB class, same it name 'gnb'\n",
    "gnb = GaussianNB()\n",
    "\n",
    "#Write the code to train Naive Bayes model using fit method on X_train & Y_train\n",
    "\n",
    "gnb.fit(X_train,y_train)\n",
    "\n",
    "#Write the code to make Predictions on X_test using predict method\n",
    "y_pred = gnb.predict(X_test)\n",
    "\n",
    "\n",
    "#Execute below code to calculate different scores\n",
    "\n",
    "from sklearn import metrics\n",
    "print(\"Accuracy : \",metrics.accuracy_score(y_test,y_pred))\n",
    "print(\"Precision : \",metrics.precision_score(y_test,y_pred))\n",
    "print(\"Recall : \",metrics.recall_score(y_test,y_pred))\n",
    "print(\"f1_score : \",metrics.f1_score(y_test,y_pred))\n",
    "\n",
    "#Write the code to print classification_report\n",
    "\n",
    "from sklearn.metrics import classification_report\n",
    "\n",
    "print(classification_report(y_test,y_pred))\n"
   ]
  },
  {
   "cell_type": "code",
   "execution_count": 24,
   "metadata": {},
   "outputs": [
    {
     "name": "stdout",
     "output_type": "stream",
     "text": [
      "Accuracy :  0.8208616780045351\n",
      "Precision :  0.5342465753424658\n",
      "Recall :  0.4642857142857143\n",
      "f1_score :  0.4968152866242039\n",
      "              precision    recall  f1-score   support\n",
      "\n",
      "           0       0.88      0.90      0.89       357\n",
      "           1       0.53      0.46      0.50        84\n",
      "\n",
      "   micro avg       0.82      0.82      0.82       441\n",
      "   macro avg       0.71      0.68      0.69       441\n",
      "weighted avg       0.81      0.82      0.82       441\n",
      "\n"
     ]
    }
   ],
   "source": [
    "#Now, lets try to create a BernoulliNB Naive Bayes model \n",
    "\n",
    "#write the code to import BernoulliNB class from sklearn.naive_bayes\n",
    "\n",
    "from sklearn.naive_bayes import BernoulliNB\n",
    "\n",
    "#Write the code to create NaiveBayes model object using BernoulliNB class, same it name 'bnb'\n",
    "bnb = BernoulliNB()\n",
    "\n",
    "#Write the code to train Bernoulli Naive Bayes model using fit method on X_train & Y_train\n",
    "bnb.fit(X_train,y_train)\n",
    "\n",
    "#Write the code to make Predictions on X_test using predict method\n",
    "Y_pred_bnb = bnb.predict(X_test)\n",
    "\n",
    "\n",
    "#Write the code to print Accuracy,Precision,Recall, f1_score\n",
    "\n",
    "from sklearn import metrics\n",
    "print(\"Accuracy : \",metrics.accuracy_score(y_test,Y_pred_bnb))\n",
    "print(\"Precision : \",metrics.precision_score(y_test,Y_pred_bnb))\n",
    "print(\"Recall : \",metrics.recall_score(y_test,Y_pred_bnb))\n",
    "print(\"f1_score : \",metrics.f1_score(y_test,Y_pred_bnb))\n",
    "\n",
    "#Write the code to print Classification report\n",
    "\n",
    "from sklearn.metrics import classification_report\n",
    "\n",
    "print(classification_report(y_test,Y_pred_bnb))"
   ]
  },
  {
   "cell_type": "code",
   "execution_count": 40,
   "metadata": {},
   "outputs": [
    {
     "ename": "ValueError",
     "evalue": "Input X must be non-negative",
     "output_type": "error",
     "traceback": [
      "\u001b[1;31m---------------------------------------------------------------------------\u001b[0m",
      "\u001b[1;31mValueError\u001b[0m                                Traceback (most recent call last)",
      "\u001b[1;32m<ipython-input-40-f7af7eca5574>\u001b[0m in \u001b[0;36m<module>\u001b[1;34m\u001b[0m\n\u001b[0;32m      8\u001b[0m \u001b[1;33m\u001b[0m\u001b[0m\n\u001b[0;32m      9\u001b[0m \u001b[1;31m#Write the code to train Naive Bayes model using fit method on X_train & Y_train\u001b[0m\u001b[1;33m\u001b[0m\u001b[1;33m\u001b[0m\u001b[1;33m\u001b[0m\u001b[0m\n\u001b[1;32m---> 10\u001b[1;33m \u001b[0mmnb\u001b[0m\u001b[1;33m.\u001b[0m\u001b[0mfit\u001b[0m\u001b[1;33m(\u001b[0m\u001b[0mX_train\u001b[0m\u001b[1;33m,\u001b[0m\u001b[0my_train\u001b[0m\u001b[1;33m)\u001b[0m\u001b[1;33m\u001b[0m\u001b[1;33m\u001b[0m\u001b[0m\n\u001b[0m\u001b[0;32m     11\u001b[0m \u001b[1;33m\u001b[0m\u001b[0m\n\u001b[0;32m     12\u001b[0m \u001b[1;31m#Write the code to make Predictions on X_test using predict method, use variable Y_pred\u001b[0m\u001b[1;33m\u001b[0m\u001b[1;33m\u001b[0m\u001b[1;33m\u001b[0m\u001b[0m\n",
      "\u001b[1;32m~\\AppData\\Local\\Continuum\\anaconda3\\lib\\site-packages\\sklearn\\naive_bayes.py\u001b[0m in \u001b[0;36mfit\u001b[1;34m(self, X, y, sample_weight)\u001b[0m\n\u001b[0;32m    608\u001b[0m         self.feature_count_ = np.zeros((n_effective_classes, n_features),\n\u001b[0;32m    609\u001b[0m                                        dtype=np.float64)\n\u001b[1;32m--> 610\u001b[1;33m         \u001b[0mself\u001b[0m\u001b[1;33m.\u001b[0m\u001b[0m_count\u001b[0m\u001b[1;33m(\u001b[0m\u001b[0mX\u001b[0m\u001b[1;33m,\u001b[0m \u001b[0mY\u001b[0m\u001b[1;33m)\u001b[0m\u001b[1;33m\u001b[0m\u001b[1;33m\u001b[0m\u001b[0m\n\u001b[0m\u001b[0;32m    611\u001b[0m         \u001b[0malpha\u001b[0m \u001b[1;33m=\u001b[0m \u001b[0mself\u001b[0m\u001b[1;33m.\u001b[0m\u001b[0m_check_alpha\u001b[0m\u001b[1;33m(\u001b[0m\u001b[1;33m)\u001b[0m\u001b[1;33m\u001b[0m\u001b[1;33m\u001b[0m\u001b[0m\n\u001b[0;32m    612\u001b[0m         \u001b[0mself\u001b[0m\u001b[1;33m.\u001b[0m\u001b[0m_update_feature_log_prob\u001b[0m\u001b[1;33m(\u001b[0m\u001b[0malpha\u001b[0m\u001b[1;33m)\u001b[0m\u001b[1;33m\u001b[0m\u001b[1;33m\u001b[0m\u001b[0m\n",
      "\u001b[1;32m~\\AppData\\Local\\Continuum\\anaconda3\\lib\\site-packages\\sklearn\\naive_bayes.py\u001b[0m in \u001b[0;36m_count\u001b[1;34m(self, X, Y)\u001b[0m\n\u001b[0;32m    712\u001b[0m         \u001b[1;34m\"\"\"Count and smooth feature occurrences.\"\"\"\u001b[0m\u001b[1;33m\u001b[0m\u001b[1;33m\u001b[0m\u001b[0m\n\u001b[0;32m    713\u001b[0m         \u001b[1;32mif\u001b[0m \u001b[0mnp\u001b[0m\u001b[1;33m.\u001b[0m\u001b[0many\u001b[0m\u001b[1;33m(\u001b[0m\u001b[1;33m(\u001b[0m\u001b[0mX\u001b[0m\u001b[1;33m.\u001b[0m\u001b[0mdata\u001b[0m \u001b[1;32mif\u001b[0m \u001b[0missparse\u001b[0m\u001b[1;33m(\u001b[0m\u001b[0mX\u001b[0m\u001b[1;33m)\u001b[0m \u001b[1;32melse\u001b[0m \u001b[0mX\u001b[0m\u001b[1;33m)\u001b[0m \u001b[1;33m<\u001b[0m \u001b[1;36m0\u001b[0m\u001b[1;33m)\u001b[0m\u001b[1;33m:\u001b[0m\u001b[1;33m\u001b[0m\u001b[1;33m\u001b[0m\u001b[0m\n\u001b[1;32m--> 714\u001b[1;33m             \u001b[1;32mraise\u001b[0m \u001b[0mValueError\u001b[0m\u001b[1;33m(\u001b[0m\u001b[1;34m\"Input X must be non-negative\"\u001b[0m\u001b[1;33m)\u001b[0m\u001b[1;33m\u001b[0m\u001b[1;33m\u001b[0m\u001b[0m\n\u001b[0m\u001b[0;32m    715\u001b[0m         \u001b[0mself\u001b[0m\u001b[1;33m.\u001b[0m\u001b[0mfeature_count_\u001b[0m \u001b[1;33m+=\u001b[0m \u001b[0msafe_sparse_dot\u001b[0m\u001b[1;33m(\u001b[0m\u001b[0mY\u001b[0m\u001b[1;33m.\u001b[0m\u001b[0mT\u001b[0m\u001b[1;33m,\u001b[0m \u001b[0mX\u001b[0m\u001b[1;33m)\u001b[0m\u001b[1;33m\u001b[0m\u001b[1;33m\u001b[0m\u001b[0m\n\u001b[0;32m    716\u001b[0m         \u001b[0mself\u001b[0m\u001b[1;33m.\u001b[0m\u001b[0mclass_count_\u001b[0m \u001b[1;33m+=\u001b[0m \u001b[0mY\u001b[0m\u001b[1;33m.\u001b[0m\u001b[0msum\u001b[0m\u001b[1;33m(\u001b[0m\u001b[0maxis\u001b[0m\u001b[1;33m=\u001b[0m\u001b[1;36m0\u001b[0m\u001b[1;33m)\u001b[0m\u001b[1;33m\u001b[0m\u001b[1;33m\u001b[0m\u001b[0m\n",
      "\u001b[1;31mValueError\u001b[0m: Input X must be non-negative"
     ]
    }
   ],
   "source": [
    "#Lets create a Multinominal Naive Bayes model first\n",
    "\n",
    "from sklearn.naive_bayes import MultinomialNB\n",
    "\n",
    "\n",
    "# code to create NaiveBayes model object using MultinomialNB class, same it name 'mnb'\n",
    "mnb = MultinomialNB()\n",
    "\n",
    "#Write the code to train Naive Bayes model using fit method on X_train & Y_train\n",
    "mnb.fit(X_train,y_train)\n",
    "\n",
    "#Write the code to make Predictions on X_test using predict method, use variable Y_pred\n",
    "Y_pred = mnb.predict(X_test)\n",
    "\n",
    "\n",
    "\n",
    "#Execute below code to calculate different scores\n",
    "\n",
    "from sklearn import metrics\n",
    "print(\"Accuracy : \",metrics.accuracy_score(y_test,Y_pred))\n",
    "print(\"Precision : \",metrics.precision_score(y_test,Y_pred))\n",
    "print(\"Recall : \",metrics.recall_score(y_test,Y_pred))\n",
    "print(\"f1_score : \",metrics.f1_score(y_test,Y_pred))"
   ]
  },
  {
   "cell_type": "markdown",
   "metadata": {},
   "source": [
    "# Trees"
   ]
  },
  {
   "cell_type": "markdown",
   "metadata": {},
   "source": [
    "# Decision Tree"
   ]
  },
  {
   "cell_type": "code",
   "execution_count": 72,
   "metadata": {},
   "outputs": [],
   "source": [
    "from sklearn.tree import DecisionTreeClassifier"
   ]
  },
  {
   "cell_type": "code",
   "execution_count": 73,
   "metadata": {},
   "outputs": [
    {
     "name": "stdout",
     "output_type": "stream",
     "text": [
      "Accuracy of Decision Tree Classifier on training set: 0.8494\n",
      "Accuracy of Decision Tree Classifier on test set: 0.8322\n"
     ]
    }
   ],
   "source": [
    "# settings for decision tree\n",
    "# max_depth: The max depth of the tree\n",
    "# min_samples_leaf: The minimum number of samples required to be at a leaf node\n",
    "# max_leaf_nodes: Grow trees upto ``max_leaf_nodes``\n",
    "# max_depth = 3, min_samples_leaf = 8, max_leaf_nodes =  10\n",
    "\n",
    "tree_mod1 = DecisionTreeClassifier(max_depth = 3, min_samples_leaf =4,\n",
    "                                   max_leaf_nodes =  4).fit(X_train, y_train)\n",
    "\n",
    "\n",
    "print('Accuracy of Decision Tree Classifier on training set: {:.4f}'\n",
    "        .format(tree_mod1.score(X_train, y_train)))\n",
    "print('Accuracy of Decision Tree Classifier on test set: {:.4f}'\n",
    "        .format(tree_mod1.score(X_test, y_test)))\n"
   ]
  },
  {
   "cell_type": "markdown",
   "metadata": {},
   "source": [
    "Accuracy of Decision Tree Classifier on training set: 0.8364\n",
    "Accuracy of Decision Tree Classifier on test set: 0.7947\n",
    "\n",
    "    \n",
    "  Accuracy of Decision Tree Classifier on training set: 0.8494\n",
    "Accuracy of Decision Tree Classifier on test set: 0.8322\n",
    "  "
   ]
  },
  {
   "cell_type": "code",
   "execution_count": 75,
   "metadata": {},
   "outputs": [
    {
     "data": {
      "image/png": "[encoded data removed]",
      "text/plain": [
       "<Figure size 432x288 with 1 Axes>"
      ]
     },
     "metadata": {
      "needs_background": "light"
     },
     "output_type": "display_data"
    }
   ],
   "source": [
    "plt.figure()\n",
    "c_features = X_train.shape[1]\n",
    "feature_names = list(X_train[0])\n",
    "plt.barh(range(c_features), tree_mod1.feature_importances_)\n",
    "plt.xlabel(\"Feature importance\")\n",
    "plt.ylabel(\"Feature name\")\n",
    "plt.yticks(np.arange(c_features), feature_names)\n",
    "plt.show();"
   ]
  },
  {
   "cell_type": "markdown",
   "metadata": {},
   "source": [
    "\n",
    "# Bagging"
   ]
  },
  {
   "cell_type": "code",
   "execution_count": 80,
   "metadata": {},
   "outputs": [],
   "source": [
    "from sklearn.ensemble import RandomForestClassifier\n"
   ]
  },
  {
   "cell_type": "code",
   "execution_count": 81,
   "metadata": {
    "scrolled": true
   },
   "outputs": [
    {
     "name": "stderr",
     "output_type": "stream",
     "text": [
      "C:\\Users\\lenovo\\AppData\\Local\\Continuum\\anaconda3\\lib\\site-packages\\ipykernel_launcher.py:5: DataConversionWarning: A column-vector y was passed when a 1d array was expected. Please change the shape of y to (n_samples,), for example using ravel().\n",
      "  \"\"\"\n"
     ]
    },
    {
     "name": "stdout",
     "output_type": "stream",
     "text": [
      "Accuracy of Bagging classifier on training set: 0.8853\n",
      "Accuracy of Bagging classifier on test set: 0.8639\n",
      "Accuracy of OOB classifier on test set: 0.8523\n"
     ]
    }
   ],
   "source": [
    "n_features = X_train.shape[1]\n",
    "bag_mod = RandomForestClassifier(bootstrap = True, n_estimators = 50,\n",
    "                                random_state = 0,\n",
    "                                max_features = None, min_samples_leaf = 5,\n",
    "                                max_depth = 4, oob_score = True).fit(X_train, y_train)\n",
    "                                \n",
    "                                \n",
    "print('Accuracy of Bagging classifier on training set: {:.4f}'\n",
    "        .format(bag_mod.score(X_train, y_train)))\n",
    "print('Accuracy of Bagging classifier on test set: {:.4f}'\n",
    "        .format(bag_mod.score(X_test, y_test)))\n",
    "print('Accuracy of OOB classifier on test set: {:.4f}'\n",
    "        .format(bag_mod.oob_score_))"
   ]
  },
  {
   "cell_type": "code",
   "execution_count": null,
   "metadata": {},
   "outputs": [],
   "source": [
    "Accuracy of Bagging classifier on training set: 0.8947\n",
    "Accuracy of Bagging classifier on test set: 0.8107\n",
    "Accuracy of OOB classifier on test set: 0.8341\n",
    "\n",
    "\n",
    "Accuracy of Bagging classifier on training set: 0.8853\n",
    "Accuracy of Bagging classifier on test set: 0.8639\n",
    "Accuracy of OOB classifier on test set: 0.8523\n",
    "\n",
    "    "
   ]
  },
  {
   "cell_type": "code",
   "execution_count": 82,
   "metadata": {},
   "outputs": [
    {
     "data": {
      "text/plain": [
       "array([0, 0, 0, 0, 1, 0, 0, 0, 0, 0, 0, 0, 0, 1, 0, 0, 0, 0, 0, 0, 0, 0,\n",
       "       0, 0, 0, 0, 0, 0, 1, 0, 0, 0, 0, 0, 0, 0, 0, 0, 0, 0, 0, 0, 0, 0,\n",
       "       0, 1, 0, 0, 1, 1, 0, 1, 0, 0, 0, 0, 0, 0, 0, 0, 0, 0, 0, 0, 0, 0,\n",
       "       0, 0, 0, 0, 0, 0, 0, 0, 0, 0, 0, 0, 1, 0, 0, 0, 0, 0, 0, 0, 0, 0,\n",
       "       0, 0, 0, 0, 0, 0, 0, 0, 0, 0, 0, 0, 0, 0, 0, 0, 0, 0, 0, 0, 0, 0,\n",
       "       0, 0, 0, 0, 0, 0, 0, 0, 0, 0, 0, 0, 0, 1, 0, 0, 0, 0, 0, 0, 0, 0,\n",
       "       0, 0, 0, 0, 0, 0, 0, 0, 0, 0, 0, 0, 0, 0, 0, 0, 0, 0, 0, 0, 0, 0,\n",
       "       0, 0, 0, 0, 0, 0, 0, 0, 0, 1, 0, 0, 0, 0, 0, 0, 0, 0, 0, 0, 0, 0,\n",
       "       0, 0, 0, 0, 0, 0, 0, 0, 0, 0, 0, 0, 0, 0, 0, 1, 0, 0, 0, 0, 0, 0,\n",
       "       0, 0, 0, 0, 0, 0, 0, 0, 1, 0, 0, 0, 0, 0, 0, 0, 0, 0, 0, 0, 0, 0,\n",
       "       0, 0, 1, 0, 0, 0, 0, 1, 1, 0, 0, 0, 0, 0, 0, 0, 0, 0, 0, 0, 0, 0,\n",
       "       0, 0, 0, 0, 0, 0, 0, 0, 0, 0, 0, 0, 0, 0, 0, 1, 0, 0, 0, 0, 0, 0,\n",
       "       0, 0, 0, 1, 0, 0, 0, 0, 0, 0, 0, 0, 0, 0, 0, 1, 0, 0, 0, 0, 0, 0,\n",
       "       0, 0, 0, 0, 0, 0, 0, 0, 0, 0, 0, 0, 1, 0, 0, 0, 0, 0, 0, 0, 0, 0,\n",
       "       0, 0, 0, 0, 0, 0, 0, 0, 0, 0, 0, 0, 0, 0, 0, 0, 0, 0, 0, 0, 0, 0,\n",
       "       0, 0, 0, 1, 0, 0, 0, 0, 0, 0, 0, 1, 0, 0, 0, 0, 0, 0, 0, 0, 0, 0,\n",
       "       0, 0, 0, 0, 0, 0, 0, 0, 0, 0, 0, 0, 0, 1, 0, 0, 0, 0, 0, 0, 0, 0,\n",
       "       0, 0, 0, 0, 0, 0, 0, 0, 0, 0, 0, 0, 0, 0, 0, 0, 0, 0, 0, 0, 1, 0,\n",
       "       0, 0, 0, 0, 0, 0, 0, 0, 0, 0, 0, 0, 0, 0, 0, 0, 0, 0, 0, 0, 0, 0,\n",
       "       0, 0, 0, 0, 0, 0, 0, 0, 0, 0, 0, 0, 0, 1, 0, 0, 0, 0, 0, 0, 0, 0,\n",
       "       0], dtype=int64)"
      ]
     },
     "execution_count": 82,
     "metadata": {},
     "output_type": "execute_result"
    }
   ],
   "source": [
    "bag_mod.predict(X_test)\n"
   ]
  },
  {
   "cell_type": "code",
   "execution_count": 84,
   "metadata": {},
   "outputs": [
    {
     "data": {
      "image/png": "[encoded data removed]",
      "text/plain": [
       "<Figure size 432x288 with 1 Axes>"
      ]
     },
     "metadata": {
      "needs_background": "light"
     },
     "output_type": "display_data"
    }
   ],
   "source": [
    "feature_names = list(X_train[0])\n",
    "plt.figure()\n",
    "plt.barh(range(n_features), bag_mod.feature_importances_)\n",
    "plt.xlabel(\"Feature importance\")\n",
    "plt.ylabel(\"Feature name\")\n",
    "plt.yticks(np.arange(n_features), feature_names)\n",
    "plt.show();"
   ]
  },
  {
   "cell_type": "markdown",
   "metadata": {},
   "source": [
    "# Random Forest "
   ]
  },
  {
   "cell_type": "code",
   "execution_count": 85,
   "metadata": {},
   "outputs": [
    {
     "name": "stdout",
     "output_type": "stream",
     "text": [
      "Accuracy of RF classifier on training set: 0.8494\n",
      "Accuracy of RF classifier on test set: 0.8503\n",
      "Accuracy of RF OOB classifier on test set: 0.8426\n"
     ]
    },
    {
     "name": "stderr",
     "output_type": "stream",
     "text": [
      "C:\\Users\\lenovo\\AppData\\Local\\Continuum\\anaconda3\\lib\\site-packages\\ipykernel_launcher.py:5: DataConversionWarning: A column-vector y was passed when a 1d array was expected. Please change the shape of y to (n_samples,), for example using ravel().\n",
      "  \"\"\"\n"
     ]
    }
   ],
   "source": [
    "# Random Forests\n",
    "rf_mod = RandomForestClassifier(bootstrap = True, n_estimators = 50,\n",
    "                                random_state = 0,\n",
    "                                max_features = \"auto\", min_samples_leaf = 5,\n",
    "                                max_depth = 4, oob_score = True).fit(X_train, y_train)\n",
    "\n",
    "print('Accuracy of RF classifier on training set: {:.4f}'\n",
    "        .format(rf_mod.score(X_train, y_train)))\n",
    "print('Accuracy of RF classifier on test set: {:.4f}'\n",
    "        .format(rf_mod.score(X_test, y_test)))\n",
    "print('Accuracy of RF OOB classifier on test set: {:.4f}'\n",
    "        .format(rf_mod.oob_score_))\n"
   ]
  },
  {
   "cell_type": "markdown",
   "metadata": {},
   "source": [
    "Accuracy of RF classifier on training set: 0.8421\n",
    "Accuracy of RF classifier on test set: 0.8320\n",
    "Accuracy of RF OOB classifier on test set: 0.8295\n",
    "\n",
    "    \n",
    "Accuracy of RF classifier on training set: 0.8494\n",
    "Accuracy of RF classifier on test set: 0.8503\n",
    "Accuracy of RF OOB classifier on test set: 0.8426"
   ]
  },
  {
   "cell_type": "markdown",
   "metadata": {},
   "source": [
    "# Gradient Boosted Decision Tree"
   ]
  },
  {
   "cell_type": "code",
   "execution_count": 86,
   "metadata": {
    "scrolled": true
   },
   "outputs": [
    {
     "name": "stderr",
     "output_type": "stream",
     "text": [
      "C:\\Users\\lenovo\\AppData\\Local\\Continuum\\anaconda3\\lib\\site-packages\\sklearn\\utils\\validation.py:761: DataConversionWarning: A column-vector y was passed when a 1d array was expected. Please change the shape of y to (n_samples, ), for example using ravel().\n",
      "  y = column_or_1d(y, warn=True)\n"
     ]
    },
    {
     "name": "stdout",
     "output_type": "stream",
     "text": [
      "Accuracy of Boosting classifier on training set: 0.8571\n",
      "Accuracy of Boosting classifier on test set: 0.8571\n"
     ]
    },
    {
     "data": {
      "text/plain": [
       "array([0, 0, 0, 0, 1, 0, 0, 0, 0, 0, 0, 0, 0, 1, 0, 0, 0, 0, 0, 0, 0, 0,\n",
       "       0, 0, 0, 0, 0, 0, 1, 0, 0, 0, 0, 0, 0, 0, 0, 0, 0, 0, 0, 0, 0, 0,\n",
       "       0, 0, 0, 0, 1, 0, 0, 0, 0, 0, 0, 0, 0, 0, 0, 0, 0, 0, 0, 0, 0, 0,\n",
       "       0, 0, 0, 0, 0, 0, 0, 0, 0, 0, 0, 0, 0, 0, 0, 0, 0, 0, 0, 0, 0, 0,\n",
       "       0, 0, 0, 0, 0, 0, 0, 0, 0, 0, 0, 0, 0, 0, 0, 0, 0, 0, 0, 0, 0, 0,\n",
       "       0, 0, 0, 0, 0, 0, 0, 0, 0, 0, 0, 0, 0, 0, 0, 0, 0, 0, 0, 0, 0, 0,\n",
       "       0, 0, 0, 0, 0, 0, 0, 0, 0, 0, 0, 0, 0, 0, 0, 0, 0, 0, 0, 0, 0, 0,\n",
       "       0, 0, 0, 0, 0, 0, 0, 0, 0, 1, 0, 0, 0, 0, 0, 0, 0, 0, 0, 0, 0, 0,\n",
       "       0, 0, 0, 0, 0, 0, 0, 0, 0, 0, 0, 0, 0, 0, 0, 1, 0, 0, 0, 0, 0, 0,\n",
       "       1, 0, 0, 0, 0, 0, 0, 0, 0, 0, 0, 0, 0, 0, 0, 0, 0, 0, 0, 0, 0, 0,\n",
       "       0, 0, 0, 0, 0, 0, 0, 0, 0, 0, 0, 0, 0, 0, 0, 0, 0, 0, 0, 0, 0, 0,\n",
       "       0, 0, 0, 0, 0, 0, 0, 0, 0, 0, 0, 0, 0, 0, 0, 1, 0, 0, 0, 0, 0, 0,\n",
       "       0, 0, 0, 0, 0, 0, 0, 0, 0, 0, 0, 0, 0, 0, 0, 0, 0, 0, 0, 0, 0, 0,\n",
       "       0, 0, 0, 0, 0, 0, 0, 0, 0, 0, 0, 0, 1, 0, 0, 0, 0, 0, 0, 0, 0, 0,\n",
       "       0, 0, 0, 0, 0, 0, 0, 0, 0, 0, 0, 0, 0, 0, 0, 0, 0, 0, 0, 0, 0, 0,\n",
       "       0, 0, 0, 0, 0, 0, 0, 0, 0, 0, 0, 0, 0, 0, 0, 0, 0, 0, 0, 0, 0, 0,\n",
       "       0, 0, 0, 0, 0, 0, 0, 0, 0, 0, 0, 0, 0, 0, 0, 0, 0, 0, 0, 0, 0, 0,\n",
       "       0, 0, 0, 0, 0, 0, 0, 0, 0, 0, 0, 0, 0, 0, 0, 0, 0, 0, 0, 0, 0, 0,\n",
       "       0, 0, 0, 0, 0, 0, 0, 0, 0, 0, 0, 0, 0, 0, 0, 0, 0, 0, 0, 0, 0, 0,\n",
       "       0, 0, 0, 0, 0, 0, 0, 0, 0, 0, 0, 0, 0, 0, 0, 0, 0, 0, 0, 0, 0, 0,\n",
       "       0], dtype=int64)"
      ]
     },
     "execution_count": 86,
     "metadata": {},
     "output_type": "execute_result"
    }
   ],
   "source": [
    "# Gradient boosted decision trees\n",
    "from sklearn.ensemble import GradientBoostingClassifier\n",
    "\n",
    "boost_mod = GradientBoostingClassifier(n_estimators = 222, max_depth = 2,\n",
    "                                      learning_rate=0.01,\n",
    "                                      random_state = 0).fit(X_train, y_train)\n",
    "print('Accuracy of Boosting classifier on training set: {:.4f}'\n",
    "        .format(boost_mod.score(X_train, y_train)))\n",
    "print('Accuracy of Boosting classifier on test set: {:.4f}'\n",
    "        .format(boost_mod.score(X_test, y_test)))\n",
    "\n",
    "# predict\n",
    "boost_mod.predict(X_test)\n"
   ]
  },
  {
   "cell_type": "code",
   "execution_count": null,
   "metadata": {},
   "outputs": [],
   "source": [
    "Accuracy of Boosting classifier on training set: 0.8432\n",
    "Accuracy of Boosting classifier on test set: 0.8347\n",
    "\n",
    "    \n",
    "Accuracy of Boosting classifier on training set: 0.8571\n",
    "Accuracy of Boosting classifier on test set: 0.8571\n"
   ]
  },
  {
   "cell_type": "code",
   "execution_count": 87,
   "metadata": {},
   "outputs": [
    {
     "data": {
      "image/png": "[encoded data removed]",
      "text/plain": [
       "<Figure size 432x288 with 1 Axes>"
      ]
     },
     "metadata": {
      "needs_background": "light"
     },
     "output_type": "display_data"
    }
   ],
   "source": [
    "# plot feature importance\n",
    "feature_names = list(X_train[0])\n",
    "plt.figure()\n",
    "plt.barh(range(n_features), boost_mod.feature_importances_)\n",
    "plt.xlabel(\"Feature importance\")\n",
    "plt.ylabel(\"Feature name\")\n",
    "plt.yticks(np.arange(n_features), feature_names)\n",
    "plt.show();"
   ]
  },
  {
   "cell_type": "code",
   "execution_count": 54,
   "metadata": {},
   "outputs": [],
   "source": [
    "from sklearn.svm import SVC\n"
   ]
  },
  {
   "cell_type": "code",
   "execution_count": 55,
   "metadata": {},
   "outputs": [
    {
     "name": "stdout",
     "output_type": "stream",
     "text": [
      "Training accuracy : 1.0 \n",
      "\n",
      "Test Accuracy : 0.7946666666666666 \n",
      "\n"
     ]
    },
    {
     "name": "stderr",
     "output_type": "stream",
     "text": [
      "C:\\Users\\lenovo\\AppData\\Local\\Continuum\\anaconda3\\lib\\site-packages\\sklearn\\svm\\base.py:196: FutureWarning: The default value of gamma will change from 'auto' to 'scale' in version 0.22 to account better for unscaled features. Set gamma explicitly to 'auto' or 'scale' to avoid this warning.\n",
      "  \"avoid this warning.\", FutureWarning)\n"
     ]
    }
   ],
   "source": [
    "#modelling with linear SVM\n",
    "model=SVC(C=1)\n",
    "\n",
    "model=SVC(C=100,kernel='rbf')\n",
    "# the code to fit the model\n",
    "model.fit(X_train,y_train)\n",
    "\n",
    "# code to predict on X_train\n",
    "y_train_pred=model.predict(X_train)\n",
    "\n",
    "#code to calculate training accuracy_score\n",
    "print(\"Training accuracy :\",accuracy_score(y_train,y_train_pred),\"\\n\")\n",
    "\n",
    "# code to predict on X_test\n",
    "y_pred_test=model.predict(X_test)\n",
    "\n",
    "#code to calculate test accuracy_score\n",
    "print(\"Test Accuracy :\",accuracy_score(y_test,y_pred_test),\"\\n\")\n"
   ]
  },
  {
   "cell_type": "code",
   "execution_count": 56,
   "metadata": {},
   "outputs": [
    {
     "name": "stdout",
     "output_type": "stream",
     "text": [
      "Test accuracy : 0.7946666666666666 \n",
      "\n",
      "Train accuracy : 1.0 \n",
      "\n"
     ]
    },
    {
     "name": "stderr",
     "output_type": "stream",
     "text": [
      "C:\\Users\\lenovo\\AppData\\Local\\Continuum\\anaconda3\\lib\\site-packages\\sklearn\\svm\\base.py:196: FutureWarning: The default value of gamma will change from 'auto' to 'scale' in version 0.22 to account better for unscaled features. Set gamma explicitly to 'auto' or 'scale' to avoid this warning.\n",
      "  \"avoid this warning.\", FutureWarning)\n"
     ]
    }
   ],
   "source": [
    "#Modelling with non-linear SVM\n",
    "\n",
    "model2=SVC(C=100,kernel='rbf')\n",
    "# Write the code to fit the model\n",
    "model2.fit(X_train,y_train)\n",
    "\n",
    "\n",
    "# Write the code to predict on X_test\n",
    "y_pred_test=model2.predict(X_test)\n",
    "\n",
    "y_pred_train=model2.predict(X_train)\n",
    "\n",
    "#Write the code to calculate test accuracy_score\n",
    "print(\"Test accuracy :\",accuracy_score(y_test,y_pred_test),\"\\n\")\n",
    "print(\"Train accuracy :\",accuracy_score(y_train,y_pred_train),\"\\n\")"
   ]
  },
  {
   "cell_type": "markdown",
   "metadata": {},
   "source": [
    "# Clustering"
   ]
  },
  {
   "cell_type": "code",
   "execution_count": 57,
   "metadata": {},
   "outputs": [
    {
     "name": "stdout",
     "output_type": "stream",
     "text": [
      "   Unnamed: 0 Attrition  Age     BusinessTravel  DailyRate  \\\n",
      "0           0         1   41      Travel_Rarely       1102   \n",
      "1           1         0   49  Travel_Frequently        279   \n",
      "2           2         1   37      Travel_Rarely       1373   \n",
      "3           3         0   33  Travel_Frequently       1392   \n",
      "4           4         0   27      Travel_Rarely        591   \n",
      "\n",
      "               Department  DistanceFromHome EducationField  \\\n",
      "0                   Sales                 1  Life Sciences   \n",
      "1  Research & Development                 8  Life Sciences   \n",
      "2  Research & Development                 2          Other   \n",
      "3  Research & Development                 3  Life Sciences   \n",
      "4  Research & Development                 2        Medical   \n",
      "\n",
      "   EnvironmentSatisfaction  JobInvolvement  ...                JobRole  \\\n",
      "0                        2               3  ...        Sales Executive   \n",
      "1                        3               2  ...     Research Scientist   \n",
      "2                        4               2  ...  Laboratory Technician   \n",
      "3                        4               3  ...     Research Scientist   \n",
      "4                        1               3  ...  Laboratory Technician   \n",
      "\n",
      "  JobSatisfaction  MaritalStatus NumCompaniesWorked  OverTime  \\\n",
      "0               4         Single                  8       Yes   \n",
      "1               2        Married                  1        No   \n",
      "2               3         Single                  6       Yes   \n",
      "3               3        Married                  1       Yes   \n",
      "4               2        Married                  9        No   \n",
      "\n",
      "  PercentSalaryHike  StockOptionLevel  WorkLifeBalance  YearsAtCompany  \\\n",
      "0                11                 0                1               6   \n",
      "1                23                 1                3              10   \n",
      "2                15                 0                3               0   \n",
      "3                11                 0                3               8   \n",
      "4                12                 1                3               2   \n",
      "\n",
      "   YearsInCurrentRole  \n",
      "0                   4  \n",
      "1                   7  \n",
      "2                   0  \n",
      "3                   7  \n",
      "4                   2  \n",
      "\n",
      "[5 rows x 21 columns]\n"
     ]
    }
   ],
   "source": [
    "from sklearn.cluster import KMeans\n",
    "print(data.head())"
   ]
  },
  {
   "cell_type": "code",
   "execution_count": 60,
   "metadata": {},
   "outputs": [],
   "source": [
    "df_new=dummies_data.drop(\"Attrition\",axis=1)\n"
   ]
  },
  {
   "cell_type": "code",
   "execution_count": 61,
   "metadata": {},
   "outputs": [],
   "source": [
    "inertia = []\n",
    "X = df_new\n",
    "for k in np.arange(1,12):\n",
    "    #code here to instanciate KMeans object with n_clusters=k & random_state=10\n",
    "    km = KMeans(n_clusters=k,random_state=10)\n",
    "    km.fit(X)\n",
    "    inertia.append(km.inertia_)"
   ]
  },
  {
   "cell_type": "code",
   "execution_count": 62,
   "metadata": {},
   "outputs": [
    {
     "data": {
      "image/png": "[encoded data removed]",
      "text/plain": [
       "<Figure size 432x288 with 1 Axes>"
      ]
     },
     "metadata": {
      "needs_background": "light"
     },
     "output_type": "display_data"
    }
   ],
   "source": [
    "plt.plot(list(np.arange(1,12)),inertia)\n",
    "plt.plot(list(np.arange(1,12)),inertia,'rs')\n",
    "plt.xlabel('Number of Clusters (K)')\n",
    "plt.ylabel('Inertia')\n",
    "plt.show()"
   ]
  },
  {
   "cell_type": "code",
   "execution_count": 63,
   "metadata": {},
   "outputs": [
    {
     "data": {
      "text/plain": [
       "{0, 1, 2, 3, 4}"
      ]
     },
     "execution_count": 63,
     "metadata": {},
     "output_type": "execute_result"
    }
   ],
   "source": [
    "#Instantiate KMeans with appropriate value of K random state 1- \n",
    "km1=KMeans(n_clusters=5,random_state=1)\n",
    "\n",
    "#fit using fit method\n",
    "km1.fit(X)\n",
    "\n",
    "#assign labels using predict method on X\n",
    "labels = km1.predict(X)\n",
    "\n",
    "set(labels)"
   ]
  },
  {
   "cell_type": "code",
   "execution_count": 64,
   "metadata": {},
   "outputs": [
    {
     "name": "stdout",
     "output_type": "stream",
     "text": [
      "222\n"
     ]
    },
    {
     "data": {
      "text/html": [
       "<div>\n",
       "<style scoped>\n",
       "    .dataframe tbody tr th:only-of-type {\n",
       "        vertical-align: middle;\n",
       "    }\n",
       "\n",
       "    .dataframe tbody tr th {\n",
       "        vertical-align: top;\n",
       "    }\n",
       "\n",
       "    .dataframe thead th {\n",
       "        text-align: right;\n",
       "    }\n",
       "</style>\n",
       "<table border=\"1\" class=\"dataframe\">\n",
       "  <thead>\n",
       "    <tr style=\"text-align: right;\">\n",
       "      <th></th>\n",
       "      <th>Unnamed: 0</th>\n",
       "      <th>Age</th>\n",
       "      <th>DailyRate</th>\n",
       "      <th>DistanceFromHome</th>\n",
       "      <th>EnvironmentSatisfaction</th>\n",
       "      <th>JobInvolvement</th>\n",
       "      <th>JobLevel</th>\n",
       "      <th>JobSatisfaction</th>\n",
       "      <th>NumCompaniesWorked</th>\n",
       "      <th>PercentSalaryHike</th>\n",
       "      <th>...</th>\n",
       "      <th>EducationField_Technical Degree</th>\n",
       "      <th>JobRole_Human Resources</th>\n",
       "      <th>JobRole_Laboratory Technician</th>\n",
       "      <th>JobRole_Manufacturing Director</th>\n",
       "      <th>JobRole_Research Scientist</th>\n",
       "      <th>JobRole_Sales Executive</th>\n",
       "      <th>JobRole_Sales Representative</th>\n",
       "      <th>MaritalStatus_Married</th>\n",
       "      <th>MaritalStatus_Single</th>\n",
       "      <th>OverTime_Yes</th>\n",
       "    </tr>\n",
       "  </thead>\n",
       "  <tbody>\n",
       "    <tr>\n",
       "      <th>count</th>\n",
       "      <td>222.000000</td>\n",
       "      <td>222.000000</td>\n",
       "      <td>222.000000</td>\n",
       "      <td>222.000000</td>\n",
       "      <td>222.000000</td>\n",
       "      <td>222.000000</td>\n",
       "      <td>222.000000</td>\n",
       "      <td>222.000000</td>\n",
       "      <td>222.000000</td>\n",
       "      <td>222.000000</td>\n",
       "      <td>...</td>\n",
       "      <td>222.000000</td>\n",
       "      <td>222.000000</td>\n",
       "      <td>222.000000</td>\n",
       "      <td>222.000000</td>\n",
       "      <td>222.000000</td>\n",
       "      <td>222.000000</td>\n",
       "      <td>222.000000</td>\n",
       "      <td>222.000000</td>\n",
       "      <td>222.000000</td>\n",
       "      <td>222.000000</td>\n",
       "    </tr>\n",
       "    <tr>\n",
       "      <th>mean</th>\n",
       "      <td>228.950450</td>\n",
       "      <td>35.306306</td>\n",
       "      <td>1181.644144</td>\n",
       "      <td>9.400901</td>\n",
       "      <td>2.851351</td>\n",
       "      <td>2.788288</td>\n",
       "      <td>1.720721</td>\n",
       "      <td>2.837838</td>\n",
       "      <td>2.518018</td>\n",
       "      <td>15.418919</td>\n",
       "      <td>...</td>\n",
       "      <td>0.076577</td>\n",
       "      <td>0.027027</td>\n",
       "      <td>0.207207</td>\n",
       "      <td>0.121622</td>\n",
       "      <td>0.238739</td>\n",
       "      <td>0.247748</td>\n",
       "      <td>0.067568</td>\n",
       "      <td>0.409910</td>\n",
       "      <td>0.337838</td>\n",
       "      <td>0.292793</td>\n",
       "    </tr>\n",
       "    <tr>\n",
       "      <th>std</th>\n",
       "      <td>143.351078</td>\n",
       "      <td>8.840254</td>\n",
       "      <td>203.366941</td>\n",
       "      <td>8.173271</td>\n",
       "      <td>1.011461</td>\n",
       "      <td>0.676194</td>\n",
       "      <td>0.720372</td>\n",
       "      <td>1.097430</td>\n",
       "      <td>2.411725</td>\n",
       "      <td>3.697890</td>\n",
       "      <td>...</td>\n",
       "      <td>0.266519</td>\n",
       "      <td>0.162529</td>\n",
       "      <td>0.406221</td>\n",
       "      <td>0.327587</td>\n",
       "      <td>0.427276</td>\n",
       "      <td>0.432680</td>\n",
       "      <td>0.251570</td>\n",
       "      <td>0.492928</td>\n",
       "      <td>0.474042</td>\n",
       "      <td>0.456072</td>\n",
       "    </tr>\n",
       "    <tr>\n",
       "      <th>min</th>\n",
       "      <td>0.000000</td>\n",
       "      <td>18.000000</td>\n",
       "      <td>776.000000</td>\n",
       "      <td>1.000000</td>\n",
       "      <td>1.000000</td>\n",
       "      <td>1.000000</td>\n",
       "      <td>1.000000</td>\n",
       "      <td>1.000000</td>\n",
       "      <td>0.000000</td>\n",
       "      <td>11.000000</td>\n",
       "      <td>...</td>\n",
       "      <td>0.000000</td>\n",
       "      <td>0.000000</td>\n",
       "      <td>0.000000</td>\n",
       "      <td>0.000000</td>\n",
       "      <td>0.000000</td>\n",
       "      <td>0.000000</td>\n",
       "      <td>0.000000</td>\n",
       "      <td>0.000000</td>\n",
       "      <td>0.000000</td>\n",
       "      <td>0.000000</td>\n",
       "    </tr>\n",
       "    <tr>\n",
       "      <th>25%</th>\n",
       "      <td>108.500000</td>\n",
       "      <td>29.000000</td>\n",
       "      <td>1005.000000</td>\n",
       "      <td>2.250000</td>\n",
       "      <td>2.000000</td>\n",
       "      <td>2.000000</td>\n",
       "      <td>1.000000</td>\n",
       "      <td>2.000000</td>\n",
       "      <td>1.000000</td>\n",
       "      <td>12.000000</td>\n",
       "      <td>...</td>\n",
       "      <td>0.000000</td>\n",
       "      <td>0.000000</td>\n",
       "      <td>0.000000</td>\n",
       "      <td>0.000000</td>\n",
       "      <td>0.000000</td>\n",
       "      <td>0.000000</td>\n",
       "      <td>0.000000</td>\n",
       "      <td>0.000000</td>\n",
       "      <td>0.000000</td>\n",
       "      <td>0.000000</td>\n",
       "    </tr>\n",
       "    <tr>\n",
       "      <th>50%</th>\n",
       "      <td>218.500000</td>\n",
       "      <td>34.000000</td>\n",
       "      <td>1210.500000</td>\n",
       "      <td>7.000000</td>\n",
       "      <td>3.000000</td>\n",
       "      <td>3.000000</td>\n",
       "      <td>2.000000</td>\n",
       "      <td>3.000000</td>\n",
       "      <td>1.000000</td>\n",
       "      <td>14.000000</td>\n",
       "      <td>...</td>\n",
       "      <td>0.000000</td>\n",
       "      <td>0.000000</td>\n",
       "      <td>0.000000</td>\n",
       "      <td>0.000000</td>\n",
       "      <td>0.000000</td>\n",
       "      <td>0.000000</td>\n",
       "      <td>0.000000</td>\n",
       "      <td>0.000000</td>\n",
       "      <td>0.000000</td>\n",
       "      <td>0.000000</td>\n",
       "    </tr>\n",
       "    <tr>\n",
       "      <th>75%</th>\n",
       "      <td>344.750000</td>\n",
       "      <td>40.000000</td>\n",
       "      <td>1355.750000</td>\n",
       "      <td>15.500000</td>\n",
       "      <td>4.000000</td>\n",
       "      <td>3.000000</td>\n",
       "      <td>2.000000</td>\n",
       "      <td>4.000000</td>\n",
       "      <td>4.000000</td>\n",
       "      <td>18.000000</td>\n",
       "      <td>...</td>\n",
       "      <td>0.000000</td>\n",
       "      <td>0.000000</td>\n",
       "      <td>0.000000</td>\n",
       "      <td>0.000000</td>\n",
       "      <td>0.000000</td>\n",
       "      <td>0.000000</td>\n",
       "      <td>0.000000</td>\n",
       "      <td>1.000000</td>\n",
       "      <td>1.000000</td>\n",
       "      <td>1.000000</td>\n",
       "    </tr>\n",
       "    <tr>\n",
       "      <th>max</th>\n",
       "      <td>546.000000</td>\n",
       "      <td>60.000000</td>\n",
       "      <td>1499.000000</td>\n",
       "      <td>29.000000</td>\n",
       "      <td>4.000000</td>\n",
       "      <td>4.000000</td>\n",
       "      <td>3.000000</td>\n",
       "      <td>4.000000</td>\n",
       "      <td>9.000000</td>\n",
       "      <td>25.000000</td>\n",
       "      <td>...</td>\n",
       "      <td>1.000000</td>\n",
       "      <td>1.000000</td>\n",
       "      <td>1.000000</td>\n",
       "      <td>1.000000</td>\n",
       "      <td>1.000000</td>\n",
       "      <td>1.000000</td>\n",
       "      <td>1.000000</td>\n",
       "      <td>1.000000</td>\n",
       "      <td>1.000000</td>\n",
       "      <td>1.000000</td>\n",
       "    </tr>\n",
       "  </tbody>\n",
       "</table>\n",
       "<p>8 rows × 32 columns</p>\n",
       "</div>"
      ],
      "text/plain": [
       "       Unnamed: 0         Age    DailyRate  DistanceFromHome  \\\n",
       "count  222.000000  222.000000   222.000000        222.000000   \n",
       "mean   228.950450   35.306306  1181.644144          9.400901   \n",
       "std    143.351078    8.840254   203.366941          8.173271   \n",
       "min      0.000000   18.000000   776.000000          1.000000   \n",
       "25%    108.500000   29.000000  1005.000000          2.250000   \n",
       "50%    218.500000   34.000000  1210.500000          7.000000   \n",
       "75%    344.750000   40.000000  1355.750000         15.500000   \n",
       "max    546.000000   60.000000  1499.000000         29.000000   \n",
       "\n",
       "       EnvironmentSatisfaction  JobInvolvement    JobLevel  JobSatisfaction  \\\n",
       "count               222.000000      222.000000  222.000000       222.000000   \n",
       "mean                  2.851351        2.788288    1.720721         2.837838   \n",
       "std                   1.011461        0.676194    0.720372         1.097430   \n",
       "min                   1.000000        1.000000    1.000000         1.000000   \n",
       "25%                   2.000000        2.000000    1.000000         2.000000   \n",
       "50%                   3.000000        3.000000    2.000000         3.000000   \n",
       "75%                   4.000000        3.000000    2.000000         4.000000   \n",
       "max                   4.000000        4.000000    3.000000         4.000000   \n",
       "\n",
       "       NumCompaniesWorked  PercentSalaryHike  ...  \\\n",
       "count          222.000000         222.000000  ...   \n",
       "mean             2.518018          15.418919  ...   \n",
       "std              2.411725           3.697890  ...   \n",
       "min              0.000000          11.000000  ...   \n",
       "25%              1.000000          12.000000  ...   \n",
       "50%              1.000000          14.000000  ...   \n",
       "75%              4.000000          18.000000  ...   \n",
       "max              9.000000          25.000000  ...   \n",
       "\n",
       "       EducationField_Technical Degree  JobRole_Human Resources  \\\n",
       "count                       222.000000               222.000000   \n",
       "mean                          0.076577                 0.027027   \n",
       "std                           0.266519                 0.162529   \n",
       "min                           0.000000                 0.000000   \n",
       "25%                           0.000000                 0.000000   \n",
       "50%                           0.000000                 0.000000   \n",
       "75%                           0.000000                 0.000000   \n",
       "max                           1.000000                 1.000000   \n",
       "\n",
       "       JobRole_Laboratory Technician  JobRole_Manufacturing Director  \\\n",
       "count                     222.000000                      222.000000   \n",
       "mean                        0.207207                        0.121622   \n",
       "std                         0.406221                        0.327587   \n",
       "min                         0.000000                        0.000000   \n",
       "25%                         0.000000                        0.000000   \n",
       "50%                         0.000000                        0.000000   \n",
       "75%                         0.000000                        0.000000   \n",
       "max                         1.000000                        1.000000   \n",
       "\n",
       "       JobRole_Research Scientist  JobRole_Sales Executive  \\\n",
       "count                  222.000000               222.000000   \n",
       "mean                     0.238739                 0.247748   \n",
       "std                      0.427276                 0.432680   \n",
       "min                      0.000000                 0.000000   \n",
       "25%                      0.000000                 0.000000   \n",
       "50%                      0.000000                 0.000000   \n",
       "75%                      0.000000                 0.000000   \n",
       "max                      1.000000                 1.000000   \n",
       "\n",
       "       JobRole_Sales Representative  MaritalStatus_Married  \\\n",
       "count                    222.000000             222.000000   \n",
       "mean                       0.067568               0.409910   \n",
       "std                        0.251570               0.492928   \n",
       "min                        0.000000               0.000000   \n",
       "25%                        0.000000               0.000000   \n",
       "50%                        0.000000               0.000000   \n",
       "75%                        0.000000               1.000000   \n",
       "max                        1.000000               1.000000   \n",
       "\n",
       "       MaritalStatus_Single  OverTime_Yes  \n",
       "count            222.000000    222.000000  \n",
       "mean               0.337838      0.292793  \n",
       "std                0.474042      0.456072  \n",
       "min                0.000000      0.000000  \n",
       "25%                0.000000      0.000000  \n",
       "50%                0.000000      0.000000  \n",
       "75%                1.000000      1.000000  \n",
       "max                1.000000      1.000000  \n",
       "\n",
       "[8 rows x 32 columns]"
      ]
     },
     "execution_count": 64,
     "metadata": {},
     "output_type": "execute_result"
    }
   ],
   "source": [
    "print(len(df_new[labels==0]))\n",
    "df_new[labels==0].describe()"
   ]
  },
  {
   "cell_type": "code",
   "execution_count": 65,
   "metadata": {},
   "outputs": [
    {
     "name": "stdout",
     "output_type": "stream",
     "text": [
      "306\n"
     ]
    },
    {
     "data": {
      "text/html": [
       "<div>\n",
       "<style scoped>\n",
       "    .dataframe tbody tr th:only-of-type {\n",
       "        vertical-align: middle;\n",
       "    }\n",
       "\n",
       "    .dataframe tbody tr th {\n",
       "        vertical-align: top;\n",
       "    }\n",
       "\n",
       "    .dataframe thead th {\n",
       "        text-align: right;\n",
       "    }\n",
       "</style>\n",
       "<table border=\"1\" class=\"dataframe\">\n",
       "  <thead>\n",
       "    <tr style=\"text-align: right;\">\n",
       "      <th></th>\n",
       "      <th>Unnamed: 0</th>\n",
       "      <th>Age</th>\n",
       "      <th>DailyRate</th>\n",
       "      <th>DistanceFromHome</th>\n",
       "      <th>EnvironmentSatisfaction</th>\n",
       "      <th>JobInvolvement</th>\n",
       "      <th>JobLevel</th>\n",
       "      <th>JobSatisfaction</th>\n",
       "      <th>NumCompaniesWorked</th>\n",
       "      <th>PercentSalaryHike</th>\n",
       "      <th>...</th>\n",
       "      <th>EducationField_Technical Degree</th>\n",
       "      <th>JobRole_Human Resources</th>\n",
       "      <th>JobRole_Laboratory Technician</th>\n",
       "      <th>JobRole_Manufacturing Director</th>\n",
       "      <th>JobRole_Research Scientist</th>\n",
       "      <th>JobRole_Sales Executive</th>\n",
       "      <th>JobRole_Sales Representative</th>\n",
       "      <th>MaritalStatus_Married</th>\n",
       "      <th>MaritalStatus_Single</th>\n",
       "      <th>OverTime_Yes</th>\n",
       "    </tr>\n",
       "  </thead>\n",
       "  <tbody>\n",
       "    <tr>\n",
       "      <th>count</th>\n",
       "      <td>306.000000</td>\n",
       "      <td>306.000000</td>\n",
       "      <td>306.000000</td>\n",
       "      <td>306.000000</td>\n",
       "      <td>306.000000</td>\n",
       "      <td>306.000000</td>\n",
       "      <td>306.000000</td>\n",
       "      <td>306.000000</td>\n",
       "      <td>306.000000</td>\n",
       "      <td>306.000000</td>\n",
       "      <td>...</td>\n",
       "      <td>306.000000</td>\n",
       "      <td>306.000000</td>\n",
       "      <td>306.000000</td>\n",
       "      <td>306.000000</td>\n",
       "      <td>306.000000</td>\n",
       "      <td>306.000000</td>\n",
       "      <td>306.000000</td>\n",
       "      <td>306.000000</td>\n",
       "      <td>306.000000</td>\n",
       "      <td>306.000000</td>\n",
       "    </tr>\n",
       "    <tr>\n",
       "      <th>mean</th>\n",
       "      <td>1148.130719</td>\n",
       "      <td>34.993464</td>\n",
       "      <td>466.114379</td>\n",
       "      <td>9.970588</td>\n",
       "      <td>2.761438</td>\n",
       "      <td>2.718954</td>\n",
       "      <td>1.696078</td>\n",
       "      <td>2.656863</td>\n",
       "      <td>2.411765</td>\n",
       "      <td>14.960784</td>\n",
       "      <td>...</td>\n",
       "      <td>0.088235</td>\n",
       "      <td>0.062092</td>\n",
       "      <td>0.196078</td>\n",
       "      <td>0.098039</td>\n",
       "      <td>0.232026</td>\n",
       "      <td>0.241830</td>\n",
       "      <td>0.068627</td>\n",
       "      <td>0.460784</td>\n",
       "      <td>0.359477</td>\n",
       "      <td>0.261438</td>\n",
       "    </tr>\n",
       "    <tr>\n",
       "      <th>std</th>\n",
       "      <td>189.674862</td>\n",
       "      <td>8.113940</td>\n",
       "      <td>193.868106</td>\n",
       "      <td>8.278500</td>\n",
       "      <td>1.076706</td>\n",
       "      <td>0.759271</td>\n",
       "      <td>0.669561</td>\n",
       "      <td>1.132197</td>\n",
       "      <td>2.391321</td>\n",
       "      <td>3.548969</td>\n",
       "      <td>...</td>\n",
       "      <td>0.284101</td>\n",
       "      <td>0.241717</td>\n",
       "      <td>0.397679</td>\n",
       "      <td>0.297855</td>\n",
       "      <td>0.422817</td>\n",
       "      <td>0.428893</td>\n",
       "      <td>0.253234</td>\n",
       "      <td>0.499276</td>\n",
       "      <td>0.480633</td>\n",
       "      <td>0.440138</td>\n",
       "    </tr>\n",
       "    <tr>\n",
       "      <th>min</th>\n",
       "      <td>775.000000</td>\n",
       "      <td>18.000000</td>\n",
       "      <td>104.000000</td>\n",
       "      <td>1.000000</td>\n",
       "      <td>1.000000</td>\n",
       "      <td>1.000000</td>\n",
       "      <td>1.000000</td>\n",
       "      <td>1.000000</td>\n",
       "      <td>0.000000</td>\n",
       "      <td>11.000000</td>\n",
       "      <td>...</td>\n",
       "      <td>0.000000</td>\n",
       "      <td>0.000000</td>\n",
       "      <td>0.000000</td>\n",
       "      <td>0.000000</td>\n",
       "      <td>0.000000</td>\n",
       "      <td>0.000000</td>\n",
       "      <td>0.000000</td>\n",
       "      <td>0.000000</td>\n",
       "      <td>0.000000</td>\n",
       "      <td>0.000000</td>\n",
       "    </tr>\n",
       "    <tr>\n",
       "      <th>25%</th>\n",
       "      <td>992.250000</td>\n",
       "      <td>29.000000</td>\n",
       "      <td>325.000000</td>\n",
       "      <td>2.000000</td>\n",
       "      <td>2.000000</td>\n",
       "      <td>2.000000</td>\n",
       "      <td>1.000000</td>\n",
       "      <td>2.000000</td>\n",
       "      <td>1.000000</td>\n",
       "      <td>12.000000</td>\n",
       "      <td>...</td>\n",
       "      <td>0.000000</td>\n",
       "      <td>0.000000</td>\n",
       "      <td>0.000000</td>\n",
       "      <td>0.000000</td>\n",
       "      <td>0.000000</td>\n",
       "      <td>0.000000</td>\n",
       "      <td>0.000000</td>\n",
       "      <td>0.000000</td>\n",
       "      <td>0.000000</td>\n",
       "      <td>0.000000</td>\n",
       "    </tr>\n",
       "    <tr>\n",
       "      <th>50%</th>\n",
       "      <td>1156.000000</td>\n",
       "      <td>34.000000</td>\n",
       "      <td>475.500000</td>\n",
       "      <td>8.000000</td>\n",
       "      <td>3.000000</td>\n",
       "      <td>3.000000</td>\n",
       "      <td>2.000000</td>\n",
       "      <td>3.000000</td>\n",
       "      <td>1.000000</td>\n",
       "      <td>14.000000</td>\n",
       "      <td>...</td>\n",
       "      <td>0.000000</td>\n",
       "      <td>0.000000</td>\n",
       "      <td>0.000000</td>\n",
       "      <td>0.000000</td>\n",
       "      <td>0.000000</td>\n",
       "      <td>0.000000</td>\n",
       "      <td>0.000000</td>\n",
       "      <td>0.000000</td>\n",
       "      <td>0.000000</td>\n",
       "      <td>0.000000</td>\n",
       "    </tr>\n",
       "    <tr>\n",
       "      <th>75%</th>\n",
       "      <td>1307.250000</td>\n",
       "      <td>40.000000</td>\n",
       "      <td>607.000000</td>\n",
       "      <td>16.000000</td>\n",
       "      <td>4.000000</td>\n",
       "      <td>3.000000</td>\n",
       "      <td>2.000000</td>\n",
       "      <td>4.000000</td>\n",
       "      <td>4.000000</td>\n",
       "      <td>17.000000</td>\n",
       "      <td>...</td>\n",
       "      <td>0.000000</td>\n",
       "      <td>0.000000</td>\n",
       "      <td>0.000000</td>\n",
       "      <td>0.000000</td>\n",
       "      <td>0.000000</td>\n",
       "      <td>0.000000</td>\n",
       "      <td>0.000000</td>\n",
       "      <td>1.000000</td>\n",
       "      <td>1.000000</td>\n",
       "      <td>1.000000</td>\n",
       "    </tr>\n",
       "    <tr>\n",
       "      <th>max</th>\n",
       "      <td>1469.000000</td>\n",
       "      <td>60.000000</td>\n",
       "      <td>830.000000</td>\n",
       "      <td>29.000000</td>\n",
       "      <td>4.000000</td>\n",
       "      <td>4.000000</td>\n",
       "      <td>3.000000</td>\n",
       "      <td>4.000000</td>\n",
       "      <td>9.000000</td>\n",
       "      <td>25.000000</td>\n",
       "      <td>...</td>\n",
       "      <td>1.000000</td>\n",
       "      <td>1.000000</td>\n",
       "      <td>1.000000</td>\n",
       "      <td>1.000000</td>\n",
       "      <td>1.000000</td>\n",
       "      <td>1.000000</td>\n",
       "      <td>1.000000</td>\n",
       "      <td>1.000000</td>\n",
       "      <td>1.000000</td>\n",
       "      <td>1.000000</td>\n",
       "    </tr>\n",
       "  </tbody>\n",
       "</table>\n",
       "<p>8 rows × 32 columns</p>\n",
       "</div>"
      ],
      "text/plain": [
       "        Unnamed: 0         Age   DailyRate  DistanceFromHome  \\\n",
       "count   306.000000  306.000000  306.000000        306.000000   \n",
       "mean   1148.130719   34.993464  466.114379          9.970588   \n",
       "std     189.674862    8.113940  193.868106          8.278500   \n",
       "min     775.000000   18.000000  104.000000          1.000000   \n",
       "25%     992.250000   29.000000  325.000000          2.000000   \n",
       "50%    1156.000000   34.000000  475.500000          8.000000   \n",
       "75%    1307.250000   40.000000  607.000000         16.000000   \n",
       "max    1469.000000   60.000000  830.000000         29.000000   \n",
       "\n",
       "       EnvironmentSatisfaction  JobInvolvement    JobLevel  JobSatisfaction  \\\n",
       "count               306.000000      306.000000  306.000000       306.000000   \n",
       "mean                  2.761438        2.718954    1.696078         2.656863   \n",
       "std                   1.076706        0.759271    0.669561         1.132197   \n",
       "min                   1.000000        1.000000    1.000000         1.000000   \n",
       "25%                   2.000000        2.000000    1.000000         2.000000   \n",
       "50%                   3.000000        3.000000    2.000000         3.000000   \n",
       "75%                   4.000000        3.000000    2.000000         4.000000   \n",
       "max                   4.000000        4.000000    3.000000         4.000000   \n",
       "\n",
       "       NumCompaniesWorked  PercentSalaryHike  ...  \\\n",
       "count          306.000000         306.000000  ...   \n",
       "mean             2.411765          14.960784  ...   \n",
       "std              2.391321           3.548969  ...   \n",
       "min              0.000000          11.000000  ...   \n",
       "25%              1.000000          12.000000  ...   \n",
       "50%              1.000000          14.000000  ...   \n",
       "75%              4.000000          17.000000  ...   \n",
       "max              9.000000          25.000000  ...   \n",
       "\n",
       "       EducationField_Technical Degree  JobRole_Human Resources  \\\n",
       "count                       306.000000               306.000000   \n",
       "mean                          0.088235                 0.062092   \n",
       "std                           0.284101                 0.241717   \n",
       "min                           0.000000                 0.000000   \n",
       "25%                           0.000000                 0.000000   \n",
       "50%                           0.000000                 0.000000   \n",
       "75%                           0.000000                 0.000000   \n",
       "max                           1.000000                 1.000000   \n",
       "\n",
       "       JobRole_Laboratory Technician  JobRole_Manufacturing Director  \\\n",
       "count                     306.000000                      306.000000   \n",
       "mean                        0.196078                        0.098039   \n",
       "std                         0.397679                        0.297855   \n",
       "min                         0.000000                        0.000000   \n",
       "25%                         0.000000                        0.000000   \n",
       "50%                         0.000000                        0.000000   \n",
       "75%                         0.000000                        0.000000   \n",
       "max                         1.000000                        1.000000   \n",
       "\n",
       "       JobRole_Research Scientist  JobRole_Sales Executive  \\\n",
       "count                  306.000000               306.000000   \n",
       "mean                     0.232026                 0.241830   \n",
       "std                      0.422817                 0.428893   \n",
       "min                      0.000000                 0.000000   \n",
       "25%                      0.000000                 0.000000   \n",
       "50%                      0.000000                 0.000000   \n",
       "75%                      0.000000                 0.000000   \n",
       "max                      1.000000                 1.000000   \n",
       "\n",
       "       JobRole_Sales Representative  MaritalStatus_Married  \\\n",
       "count                    306.000000             306.000000   \n",
       "mean                       0.068627               0.460784   \n",
       "std                        0.253234               0.499276   \n",
       "min                        0.000000               0.000000   \n",
       "25%                        0.000000               0.000000   \n",
       "50%                        0.000000               0.000000   \n",
       "75%                        0.000000               1.000000   \n",
       "max                        1.000000               1.000000   \n",
       "\n",
       "       MaritalStatus_Single  OverTime_Yes  \n",
       "count            306.000000    306.000000  \n",
       "mean               0.359477      0.261438  \n",
       "std                0.480633      0.440138  \n",
       "min                0.000000      0.000000  \n",
       "25%                0.000000      0.000000  \n",
       "50%                0.000000      0.000000  \n",
       "75%                1.000000      1.000000  \n",
       "max                1.000000      1.000000  \n",
       "\n",
       "[8 rows x 32 columns]"
      ]
     },
     "execution_count": 65,
     "metadata": {},
     "output_type": "execute_result"
    }
   ],
   "source": [
    "print(len(df_new[labels==1]))\n",
    "df_new[labels==1].describe()"
   ]
  },
  {
   "cell_type": "code",
   "execution_count": 66,
   "metadata": {},
   "outputs": [
    {
     "name": "stdout",
     "output_type": "stream",
     "text": [
      "299\n"
     ]
    },
    {
     "data": {
      "text/html": [
       "<div>\n",
       "<style scoped>\n",
       "    .dataframe tbody tr th:only-of-type {\n",
       "        vertical-align: middle;\n",
       "    }\n",
       "\n",
       "    .dataframe tbody tr th {\n",
       "        vertical-align: top;\n",
       "    }\n",
       "\n",
       "    .dataframe thead th {\n",
       "        text-align: right;\n",
       "    }\n",
       "</style>\n",
       "<table border=\"1\" class=\"dataframe\">\n",
       "  <thead>\n",
       "    <tr style=\"text-align: right;\">\n",
       "      <th></th>\n",
       "      <th>Unnamed: 0</th>\n",
       "      <th>Age</th>\n",
       "      <th>DailyRate</th>\n",
       "      <th>DistanceFromHome</th>\n",
       "      <th>EnvironmentSatisfaction</th>\n",
       "      <th>JobInvolvement</th>\n",
       "      <th>JobLevel</th>\n",
       "      <th>JobSatisfaction</th>\n",
       "      <th>NumCompaniesWorked</th>\n",
       "      <th>PercentSalaryHike</th>\n",
       "      <th>...</th>\n",
       "      <th>EducationField_Technical Degree</th>\n",
       "      <th>JobRole_Human Resources</th>\n",
       "      <th>JobRole_Laboratory Technician</th>\n",
       "      <th>JobRole_Manufacturing Director</th>\n",
       "      <th>JobRole_Research Scientist</th>\n",
       "      <th>JobRole_Sales Executive</th>\n",
       "      <th>JobRole_Sales Representative</th>\n",
       "      <th>MaritalStatus_Married</th>\n",
       "      <th>MaritalStatus_Single</th>\n",
       "      <th>OverTime_Yes</th>\n",
       "    </tr>\n",
       "  </thead>\n",
       "  <tbody>\n",
       "    <tr>\n",
       "      <th>count</th>\n",
       "      <td>299.000000</td>\n",
       "      <td>299.000000</td>\n",
       "      <td>299.000000</td>\n",
       "      <td>299.000000</td>\n",
       "      <td>299.000000</td>\n",
       "      <td>299.000000</td>\n",
       "      <td>299.000000</td>\n",
       "      <td>299.000000</td>\n",
       "      <td>299.000000</td>\n",
       "      <td>299.000000</td>\n",
       "      <td>...</td>\n",
       "      <td>299.00000</td>\n",
       "      <td>299.000000</td>\n",
       "      <td>299.000000</td>\n",
       "      <td>299.000000</td>\n",
       "      <td>299.000000</td>\n",
       "      <td>299.000000</td>\n",
       "      <td>299.000000</td>\n",
       "      <td>299.000000</td>\n",
       "      <td>299.000000</td>\n",
       "      <td>299.000000</td>\n",
       "    </tr>\n",
       "    <tr>\n",
       "      <th>mean</th>\n",
       "      <td>392.531773</td>\n",
       "      <td>35.421405</td>\n",
       "      <td>425.665552</td>\n",
       "      <td>9.023411</td>\n",
       "      <td>2.608696</td>\n",
       "      <td>2.698997</td>\n",
       "      <td>1.709030</td>\n",
       "      <td>2.702341</td>\n",
       "      <td>2.571906</td>\n",
       "      <td>15.274247</td>\n",
       "      <td>...</td>\n",
       "      <td>0.09699</td>\n",
       "      <td>0.020067</td>\n",
       "      <td>0.207358</td>\n",
       "      <td>0.113712</td>\n",
       "      <td>0.234114</td>\n",
       "      <td>0.264214</td>\n",
       "      <td>0.076923</td>\n",
       "      <td>0.434783</td>\n",
       "      <td>0.344482</td>\n",
       "      <td>0.274247</td>\n",
       "    </tr>\n",
       "    <tr>\n",
       "      <th>std</th>\n",
       "      <td>216.928068</td>\n",
       "      <td>8.847497</td>\n",
       "      <td>195.714459</td>\n",
       "      <td>8.182244</td>\n",
       "      <td>1.091790</td>\n",
       "      <td>0.697334</td>\n",
       "      <td>0.689533</td>\n",
       "      <td>1.109006</td>\n",
       "      <td>2.458518</td>\n",
       "      <td>3.735155</td>\n",
       "      <td>...</td>\n",
       "      <td>0.29644</td>\n",
       "      <td>0.140464</td>\n",
       "      <td>0.406094</td>\n",
       "      <td>0.317994</td>\n",
       "      <td>0.424153</td>\n",
       "      <td>0.441653</td>\n",
       "      <td>0.266916</td>\n",
       "      <td>0.496560</td>\n",
       "      <td>0.475996</td>\n",
       "      <td>0.446882</td>\n",
       "    </tr>\n",
       "    <tr>\n",
       "      <th>min</th>\n",
       "      <td>1.000000</td>\n",
       "      <td>18.000000</td>\n",
       "      <td>103.000000</td>\n",
       "      <td>1.000000</td>\n",
       "      <td>1.000000</td>\n",
       "      <td>1.000000</td>\n",
       "      <td>1.000000</td>\n",
       "      <td>1.000000</td>\n",
       "      <td>0.000000</td>\n",
       "      <td>11.000000</td>\n",
       "      <td>...</td>\n",
       "      <td>0.00000</td>\n",
       "      <td>0.000000</td>\n",
       "      <td>0.000000</td>\n",
       "      <td>0.000000</td>\n",
       "      <td>0.000000</td>\n",
       "      <td>0.000000</td>\n",
       "      <td>0.000000</td>\n",
       "      <td>0.000000</td>\n",
       "      <td>0.000000</td>\n",
       "      <td>0.000000</td>\n",
       "    </tr>\n",
       "    <tr>\n",
       "      <th>25%</th>\n",
       "      <td>198.000000</td>\n",
       "      <td>30.000000</td>\n",
       "      <td>250.500000</td>\n",
       "      <td>2.000000</td>\n",
       "      <td>2.000000</td>\n",
       "      <td>2.000000</td>\n",
       "      <td>1.000000</td>\n",
       "      <td>2.000000</td>\n",
       "      <td>1.000000</td>\n",
       "      <td>12.000000</td>\n",
       "      <td>...</td>\n",
       "      <td>0.00000</td>\n",
       "      <td>0.000000</td>\n",
       "      <td>0.000000</td>\n",
       "      <td>0.000000</td>\n",
       "      <td>0.000000</td>\n",
       "      <td>0.000000</td>\n",
       "      <td>0.000000</td>\n",
       "      <td>0.000000</td>\n",
       "      <td>0.000000</td>\n",
       "      <td>0.000000</td>\n",
       "    </tr>\n",
       "    <tr>\n",
       "      <th>50%</th>\n",
       "      <td>399.000000</td>\n",
       "      <td>34.000000</td>\n",
       "      <td>442.000000</td>\n",
       "      <td>7.000000</td>\n",
       "      <td>3.000000</td>\n",
       "      <td>3.000000</td>\n",
       "      <td>2.000000</td>\n",
       "      <td>3.000000</td>\n",
       "      <td>1.000000</td>\n",
       "      <td>14.000000</td>\n",
       "      <td>...</td>\n",
       "      <td>0.00000</td>\n",
       "      <td>0.000000</td>\n",
       "      <td>0.000000</td>\n",
       "      <td>0.000000</td>\n",
       "      <td>0.000000</td>\n",
       "      <td>0.000000</td>\n",
       "      <td>0.000000</td>\n",
       "      <td>0.000000</td>\n",
       "      <td>0.000000</td>\n",
       "      <td>0.000000</td>\n",
       "    </tr>\n",
       "    <tr>\n",
       "      <th>75%</th>\n",
       "      <td>570.500000</td>\n",
       "      <td>40.500000</td>\n",
       "      <td>593.500000</td>\n",
       "      <td>13.000000</td>\n",
       "      <td>4.000000</td>\n",
       "      <td>3.000000</td>\n",
       "      <td>2.000000</td>\n",
       "      <td>4.000000</td>\n",
       "      <td>4.000000</td>\n",
       "      <td>18.000000</td>\n",
       "      <td>...</td>\n",
       "      <td>0.00000</td>\n",
       "      <td>0.000000</td>\n",
       "      <td>0.000000</td>\n",
       "      <td>0.000000</td>\n",
       "      <td>0.000000</td>\n",
       "      <td>1.000000</td>\n",
       "      <td>0.000000</td>\n",
       "      <td>1.000000</td>\n",
       "      <td>1.000000</td>\n",
       "      <td>1.000000</td>\n",
       "    </tr>\n",
       "    <tr>\n",
       "      <th>max</th>\n",
       "      <td>781.000000</td>\n",
       "      <td>59.000000</td>\n",
       "      <td>798.000000</td>\n",
       "      <td>29.000000</td>\n",
       "      <td>4.000000</td>\n",
       "      <td>4.000000</td>\n",
       "      <td>3.000000</td>\n",
       "      <td>4.000000</td>\n",
       "      <td>9.000000</td>\n",
       "      <td>25.000000</td>\n",
       "      <td>...</td>\n",
       "      <td>1.00000</td>\n",
       "      <td>1.000000</td>\n",
       "      <td>1.000000</td>\n",
       "      <td>1.000000</td>\n",
       "      <td>1.000000</td>\n",
       "      <td>1.000000</td>\n",
       "      <td>1.000000</td>\n",
       "      <td>1.000000</td>\n",
       "      <td>1.000000</td>\n",
       "      <td>1.000000</td>\n",
       "    </tr>\n",
       "  </tbody>\n",
       "</table>\n",
       "<p>8 rows × 32 columns</p>\n",
       "</div>"
      ],
      "text/plain": [
       "       Unnamed: 0         Age   DailyRate  DistanceFromHome  \\\n",
       "count  299.000000  299.000000  299.000000        299.000000   \n",
       "mean   392.531773   35.421405  425.665552          9.023411   \n",
       "std    216.928068    8.847497  195.714459          8.182244   \n",
       "min      1.000000   18.000000  103.000000          1.000000   \n",
       "25%    198.000000   30.000000  250.500000          2.000000   \n",
       "50%    399.000000   34.000000  442.000000          7.000000   \n",
       "75%    570.500000   40.500000  593.500000         13.000000   \n",
       "max    781.000000   59.000000  798.000000         29.000000   \n",
       "\n",
       "       EnvironmentSatisfaction  JobInvolvement    JobLevel  JobSatisfaction  \\\n",
       "count               299.000000      299.000000  299.000000       299.000000   \n",
       "mean                  2.608696        2.698997    1.709030         2.702341   \n",
       "std                   1.091790        0.697334    0.689533         1.109006   \n",
       "min                   1.000000        1.000000    1.000000         1.000000   \n",
       "25%                   2.000000        2.000000    1.000000         2.000000   \n",
       "50%                   3.000000        3.000000    2.000000         3.000000   \n",
       "75%                   4.000000        3.000000    2.000000         4.000000   \n",
       "max                   4.000000        4.000000    3.000000         4.000000   \n",
       "\n",
       "       NumCompaniesWorked  PercentSalaryHike  ...  \\\n",
       "count          299.000000         299.000000  ...   \n",
       "mean             2.571906          15.274247  ...   \n",
       "std              2.458518           3.735155  ...   \n",
       "min              0.000000          11.000000  ...   \n",
       "25%              1.000000          12.000000  ...   \n",
       "50%              1.000000          14.000000  ...   \n",
       "75%              4.000000          18.000000  ...   \n",
       "max              9.000000          25.000000  ...   \n",
       "\n",
       "       EducationField_Technical Degree  JobRole_Human Resources  \\\n",
       "count                        299.00000               299.000000   \n",
       "mean                           0.09699                 0.020067   \n",
       "std                            0.29644                 0.140464   \n",
       "min                            0.00000                 0.000000   \n",
       "25%                            0.00000                 0.000000   \n",
       "50%                            0.00000                 0.000000   \n",
       "75%                            0.00000                 0.000000   \n",
       "max                            1.00000                 1.000000   \n",
       "\n",
       "       JobRole_Laboratory Technician  JobRole_Manufacturing Director  \\\n",
       "count                     299.000000                      299.000000   \n",
       "mean                        0.207358                        0.113712   \n",
       "std                         0.406094                        0.317994   \n",
       "min                         0.000000                        0.000000   \n",
       "25%                         0.000000                        0.000000   \n",
       "50%                         0.000000                        0.000000   \n",
       "75%                         0.000000                        0.000000   \n",
       "max                         1.000000                        1.000000   \n",
       "\n",
       "       JobRole_Research Scientist  JobRole_Sales Executive  \\\n",
       "count                  299.000000               299.000000   \n",
       "mean                     0.234114                 0.264214   \n",
       "std                      0.424153                 0.441653   \n",
       "min                      0.000000                 0.000000   \n",
       "25%                      0.000000                 0.000000   \n",
       "50%                      0.000000                 0.000000   \n",
       "75%                      0.000000                 1.000000   \n",
       "max                      1.000000                 1.000000   \n",
       "\n",
       "       JobRole_Sales Representative  MaritalStatus_Married  \\\n",
       "count                    299.000000             299.000000   \n",
       "mean                       0.076923               0.434783   \n",
       "std                        0.266916               0.496560   \n",
       "min                        0.000000               0.000000   \n",
       "25%                        0.000000               0.000000   \n",
       "50%                        0.000000               0.000000   \n",
       "75%                        0.000000               1.000000   \n",
       "max                        1.000000               1.000000   \n",
       "\n",
       "       MaritalStatus_Single  OverTime_Yes  \n",
       "count            299.000000    299.000000  \n",
       "mean               0.344482      0.274247  \n",
       "std                0.475996      0.446882  \n",
       "min                0.000000      0.000000  \n",
       "25%                0.000000      0.000000  \n",
       "50%                0.000000      0.000000  \n",
       "75%                1.000000      1.000000  \n",
       "max                1.000000      1.000000  \n",
       "\n",
       "[8 rows x 32 columns]"
      ]
     },
     "execution_count": 66,
     "metadata": {},
     "output_type": "execute_result"
    }
   ],
   "source": [
    "print(len(df_new[labels==2]))\n",
    "df_new[labels==2].describe()"
   ]
  },
  {
   "cell_type": "code",
   "execution_count": 67,
   "metadata": {},
   "outputs": [
    {
     "name": "stdout",
     "output_type": "stream",
     "text": [
      "194\n"
     ]
    },
    {
     "data": {
      "text/html": [
       "<div>\n",
       "<style scoped>\n",
       "    .dataframe tbody tr th:only-of-type {\n",
       "        vertical-align: middle;\n",
       "    }\n",
       "\n",
       "    .dataframe tbody tr th {\n",
       "        vertical-align: top;\n",
       "    }\n",
       "\n",
       "    .dataframe thead th {\n",
       "        text-align: right;\n",
       "    }\n",
       "</style>\n",
       "<table border=\"1\" class=\"dataframe\">\n",
       "  <thead>\n",
       "    <tr style=\"text-align: right;\">\n",
       "      <th></th>\n",
       "      <th>Unnamed: 0</th>\n",
       "      <th>Age</th>\n",
       "      <th>DailyRate</th>\n",
       "      <th>DistanceFromHome</th>\n",
       "      <th>EnvironmentSatisfaction</th>\n",
       "      <th>JobInvolvement</th>\n",
       "      <th>JobLevel</th>\n",
       "      <th>JobSatisfaction</th>\n",
       "      <th>NumCompaniesWorked</th>\n",
       "      <th>PercentSalaryHike</th>\n",
       "      <th>...</th>\n",
       "      <th>EducationField_Technical Degree</th>\n",
       "      <th>JobRole_Human Resources</th>\n",
       "      <th>JobRole_Laboratory Technician</th>\n",
       "      <th>JobRole_Manufacturing Director</th>\n",
       "      <th>JobRole_Research Scientist</th>\n",
       "      <th>JobRole_Sales Executive</th>\n",
       "      <th>JobRole_Sales Representative</th>\n",
       "      <th>MaritalStatus_Married</th>\n",
       "      <th>MaritalStatus_Single</th>\n",
       "      <th>OverTime_Yes</th>\n",
       "    </tr>\n",
       "  </thead>\n",
       "  <tbody>\n",
       "    <tr>\n",
       "      <th>count</th>\n",
       "      <td>194.000000</td>\n",
       "      <td>194.000000</td>\n",
       "      <td>194.000000</td>\n",
       "      <td>194.000000</td>\n",
       "      <td>194.000000</td>\n",
       "      <td>194.000000</td>\n",
       "      <td>194.000000</td>\n",
       "      <td>194.000000</td>\n",
       "      <td>194.000000</td>\n",
       "      <td>194.000000</td>\n",
       "      <td>...</td>\n",
       "      <td>194.000000</td>\n",
       "      <td>194.000000</td>\n",
       "      <td>194.000000</td>\n",
       "      <td>194.000000</td>\n",
       "      <td>194.000000</td>\n",
       "      <td>194.000000</td>\n",
       "      <td>194.000000</td>\n",
       "      <td>194.000000</td>\n",
       "      <td>194.000000</td>\n",
       "      <td>194.000000</td>\n",
       "    </tr>\n",
       "    <tr>\n",
       "      <th>mean</th>\n",
       "      <td>1225.067010</td>\n",
       "      <td>36.164948</td>\n",
       "      <td>1200.644330</td>\n",
       "      <td>8.979381</td>\n",
       "      <td>2.716495</td>\n",
       "      <td>2.747423</td>\n",
       "      <td>1.762887</td>\n",
       "      <td>2.695876</td>\n",
       "      <td>2.850515</td>\n",
       "      <td>15.360825</td>\n",
       "      <td>...</td>\n",
       "      <td>0.118557</td>\n",
       "      <td>0.056701</td>\n",
       "      <td>0.190722</td>\n",
       "      <td>0.087629</td>\n",
       "      <td>0.211340</td>\n",
       "      <td>0.278351</td>\n",
       "      <td>0.056701</td>\n",
       "      <td>0.494845</td>\n",
       "      <td>0.278351</td>\n",
       "      <td>0.273196</td>\n",
       "    </tr>\n",
       "    <tr>\n",
       "      <th>std</th>\n",
       "      <td>145.997483</td>\n",
       "      <td>7.740855</td>\n",
       "      <td>187.008554</td>\n",
       "      <td>7.849596</td>\n",
       "      <td>1.141327</td>\n",
       "      <td>0.714845</td>\n",
       "      <td>0.716543</td>\n",
       "      <td>1.065368</td>\n",
       "      <td>2.525174</td>\n",
       "      <td>3.592409</td>\n",
       "      <td>...</td>\n",
       "      <td>0.324103</td>\n",
       "      <td>0.231869</td>\n",
       "      <td>0.393887</td>\n",
       "      <td>0.283486</td>\n",
       "      <td>0.409315</td>\n",
       "      <td>0.449347</td>\n",
       "      <td>0.231869</td>\n",
       "      <td>0.501267</td>\n",
       "      <td>0.449347</td>\n",
       "      <td>0.446754</td>\n",
       "    </tr>\n",
       "    <tr>\n",
       "      <th>min</th>\n",
       "      <td>886.000000</td>\n",
       "      <td>18.000000</td>\n",
       "      <td>833.000000</td>\n",
       "      <td>1.000000</td>\n",
       "      <td>1.000000</td>\n",
       "      <td>1.000000</td>\n",
       "      <td>1.000000</td>\n",
       "      <td>1.000000</td>\n",
       "      <td>0.000000</td>\n",
       "      <td>11.000000</td>\n",
       "      <td>...</td>\n",
       "      <td>0.000000</td>\n",
       "      <td>0.000000</td>\n",
       "      <td>0.000000</td>\n",
       "      <td>0.000000</td>\n",
       "      <td>0.000000</td>\n",
       "      <td>0.000000</td>\n",
       "      <td>0.000000</td>\n",
       "      <td>0.000000</td>\n",
       "      <td>0.000000</td>\n",
       "      <td>0.000000</td>\n",
       "    </tr>\n",
       "    <tr>\n",
       "      <th>25%</th>\n",
       "      <td>1102.750000</td>\n",
       "      <td>31.000000</td>\n",
       "      <td>1060.250000</td>\n",
       "      <td>2.000000</td>\n",
       "      <td>2.000000</td>\n",
       "      <td>2.000000</td>\n",
       "      <td>1.000000</td>\n",
       "      <td>2.000000</td>\n",
       "      <td>1.000000</td>\n",
       "      <td>13.000000</td>\n",
       "      <td>...</td>\n",
       "      <td>0.000000</td>\n",
       "      <td>0.000000</td>\n",
       "      <td>0.000000</td>\n",
       "      <td>0.000000</td>\n",
       "      <td>0.000000</td>\n",
       "      <td>0.000000</td>\n",
       "      <td>0.000000</td>\n",
       "      <td>0.000000</td>\n",
       "      <td>0.000000</td>\n",
       "      <td>0.000000</td>\n",
       "    </tr>\n",
       "    <tr>\n",
       "      <th>50%</th>\n",
       "      <td>1233.500000</td>\n",
       "      <td>35.000000</td>\n",
       "      <td>1206.000000</td>\n",
       "      <td>7.000000</td>\n",
       "      <td>3.000000</td>\n",
       "      <td>3.000000</td>\n",
       "      <td>2.000000</td>\n",
       "      <td>3.000000</td>\n",
       "      <td>2.000000</td>\n",
       "      <td>14.000000</td>\n",
       "      <td>...</td>\n",
       "      <td>0.000000</td>\n",
       "      <td>0.000000</td>\n",
       "      <td>0.000000</td>\n",
       "      <td>0.000000</td>\n",
       "      <td>0.000000</td>\n",
       "      <td>0.000000</td>\n",
       "      <td>0.000000</td>\n",
       "      <td>0.000000</td>\n",
       "      <td>0.000000</td>\n",
       "      <td>0.000000</td>\n",
       "    </tr>\n",
       "    <tr>\n",
       "      <th>75%</th>\n",
       "      <td>1360.250000</td>\n",
       "      <td>40.000000</td>\n",
       "      <td>1353.250000</td>\n",
       "      <td>13.000000</td>\n",
       "      <td>4.000000</td>\n",
       "      <td>3.000000</td>\n",
       "      <td>2.000000</td>\n",
       "      <td>4.000000</td>\n",
       "      <td>4.000000</td>\n",
       "      <td>18.000000</td>\n",
       "      <td>...</td>\n",
       "      <td>0.000000</td>\n",
       "      <td>0.000000</td>\n",
       "      <td>0.000000</td>\n",
       "      <td>0.000000</td>\n",
       "      <td>0.000000</td>\n",
       "      <td>1.000000</td>\n",
       "      <td>0.000000</td>\n",
       "      <td>1.000000</td>\n",
       "      <td>1.000000</td>\n",
       "      <td>1.000000</td>\n",
       "    </tr>\n",
       "    <tr>\n",
       "      <th>max</th>\n",
       "      <td>1468.000000</td>\n",
       "      <td>59.000000</td>\n",
       "      <td>1498.000000</td>\n",
       "      <td>29.000000</td>\n",
       "      <td>4.000000</td>\n",
       "      <td>4.000000</td>\n",
       "      <td>3.000000</td>\n",
       "      <td>4.000000</td>\n",
       "      <td>9.000000</td>\n",
       "      <td>25.000000</td>\n",
       "      <td>...</td>\n",
       "      <td>1.000000</td>\n",
       "      <td>1.000000</td>\n",
       "      <td>1.000000</td>\n",
       "      <td>1.000000</td>\n",
       "      <td>1.000000</td>\n",
       "      <td>1.000000</td>\n",
       "      <td>1.000000</td>\n",
       "      <td>1.000000</td>\n",
       "      <td>1.000000</td>\n",
       "      <td>1.000000</td>\n",
       "    </tr>\n",
       "  </tbody>\n",
       "</table>\n",
       "<p>8 rows × 32 columns</p>\n",
       "</div>"
      ],
      "text/plain": [
       "        Unnamed: 0         Age    DailyRate  DistanceFromHome  \\\n",
       "count   194.000000  194.000000   194.000000        194.000000   \n",
       "mean   1225.067010   36.164948  1200.644330          8.979381   \n",
       "std     145.997483    7.740855   187.008554          7.849596   \n",
       "min     886.000000   18.000000   833.000000          1.000000   \n",
       "25%    1102.750000   31.000000  1060.250000          2.000000   \n",
       "50%    1233.500000   35.000000  1206.000000          7.000000   \n",
       "75%    1360.250000   40.000000  1353.250000         13.000000   \n",
       "max    1468.000000   59.000000  1498.000000         29.000000   \n",
       "\n",
       "       EnvironmentSatisfaction  JobInvolvement    JobLevel  JobSatisfaction  \\\n",
       "count               194.000000      194.000000  194.000000       194.000000   \n",
       "mean                  2.716495        2.747423    1.762887         2.695876   \n",
       "std                   1.141327        0.714845    0.716543         1.065368   \n",
       "min                   1.000000        1.000000    1.000000         1.000000   \n",
       "25%                   2.000000        2.000000    1.000000         2.000000   \n",
       "50%                   3.000000        3.000000    2.000000         3.000000   \n",
       "75%                   4.000000        3.000000    2.000000         4.000000   \n",
       "max                   4.000000        4.000000    3.000000         4.000000   \n",
       "\n",
       "       NumCompaniesWorked  PercentSalaryHike  ...  \\\n",
       "count          194.000000         194.000000  ...   \n",
       "mean             2.850515          15.360825  ...   \n",
       "std              2.525174           3.592409  ...   \n",
       "min              0.000000          11.000000  ...   \n",
       "25%              1.000000          13.000000  ...   \n",
       "50%              2.000000          14.000000  ...   \n",
       "75%              4.000000          18.000000  ...   \n",
       "max              9.000000          25.000000  ...   \n",
       "\n",
       "       EducationField_Technical Degree  JobRole_Human Resources  \\\n",
       "count                       194.000000               194.000000   \n",
       "mean                          0.118557                 0.056701   \n",
       "std                           0.324103                 0.231869   \n",
       "min                           0.000000                 0.000000   \n",
       "25%                           0.000000                 0.000000   \n",
       "50%                           0.000000                 0.000000   \n",
       "75%                           0.000000                 0.000000   \n",
       "max                           1.000000                 1.000000   \n",
       "\n",
       "       JobRole_Laboratory Technician  JobRole_Manufacturing Director  \\\n",
       "count                     194.000000                      194.000000   \n",
       "mean                        0.190722                        0.087629   \n",
       "std                         0.393887                        0.283486   \n",
       "min                         0.000000                        0.000000   \n",
       "25%                         0.000000                        0.000000   \n",
       "50%                         0.000000                        0.000000   \n",
       "75%                         0.000000                        0.000000   \n",
       "max                         1.000000                        1.000000   \n",
       "\n",
       "       JobRole_Research Scientist  JobRole_Sales Executive  \\\n",
       "count                  194.000000               194.000000   \n",
       "mean                     0.211340                 0.278351   \n",
       "std                      0.409315                 0.449347   \n",
       "min                      0.000000                 0.000000   \n",
       "25%                      0.000000                 0.000000   \n",
       "50%                      0.000000                 0.000000   \n",
       "75%                      0.000000                 1.000000   \n",
       "max                      1.000000                 1.000000   \n",
       "\n",
       "       JobRole_Sales Representative  MaritalStatus_Married  \\\n",
       "count                    194.000000             194.000000   \n",
       "mean                       0.056701               0.494845   \n",
       "std                        0.231869               0.501267   \n",
       "min                        0.000000               0.000000   \n",
       "25%                        0.000000               0.000000   \n",
       "50%                        0.000000               0.000000   \n",
       "75%                        0.000000               1.000000   \n",
       "max                        1.000000               1.000000   \n",
       "\n",
       "       MaritalStatus_Single  OverTime_Yes  \n",
       "count            194.000000    194.000000  \n",
       "mean               0.278351      0.273196  \n",
       "std                0.449347      0.446754  \n",
       "min                0.000000      0.000000  \n",
       "25%                0.000000      0.000000  \n",
       "50%                0.000000      0.000000  \n",
       "75%                1.000000      1.000000  \n",
       "max                1.000000      1.000000  \n",
       "\n",
       "[8 rows x 32 columns]"
      ]
     },
     "execution_count": 67,
     "metadata": {},
     "output_type": "execute_result"
    }
   ],
   "source": [
    "print(len(df_new[labels==3]))\n",
    "df_new[labels==3].describe()"
   ]
  },
  {
   "cell_type": "code",
   "execution_count": 68,
   "metadata": {},
   "outputs": [
    {
     "name": "stdout",
     "output_type": "stream",
     "text": [
      "228\n"
     ]
    },
    {
     "data": {
      "text/html": [
       "<div>\n",
       "<style scoped>\n",
       "    .dataframe tbody tr th:only-of-type {\n",
       "        vertical-align: middle;\n",
       "    }\n",
       "\n",
       "    .dataframe tbody tr th {\n",
       "        vertical-align: top;\n",
       "    }\n",
       "\n",
       "    .dataframe thead th {\n",
       "        text-align: right;\n",
       "    }\n",
       "</style>\n",
       "<table border=\"1\" class=\"dataframe\">\n",
       "  <thead>\n",
       "    <tr style=\"text-align: right;\">\n",
       "      <th></th>\n",
       "      <th>Unnamed: 0</th>\n",
       "      <th>Age</th>\n",
       "      <th>DailyRate</th>\n",
       "      <th>DistanceFromHome</th>\n",
       "      <th>EnvironmentSatisfaction</th>\n",
       "      <th>JobInvolvement</th>\n",
       "      <th>JobLevel</th>\n",
       "      <th>JobSatisfaction</th>\n",
       "      <th>NumCompaniesWorked</th>\n",
       "      <th>PercentSalaryHike</th>\n",
       "      <th>...</th>\n",
       "      <th>EducationField_Technical Degree</th>\n",
       "      <th>JobRole_Human Resources</th>\n",
       "      <th>JobRole_Laboratory Technician</th>\n",
       "      <th>JobRole_Manufacturing Director</th>\n",
       "      <th>JobRole_Research Scientist</th>\n",
       "      <th>JobRole_Sales Executive</th>\n",
       "      <th>JobRole_Sales Representative</th>\n",
       "      <th>MaritalStatus_Married</th>\n",
       "      <th>MaritalStatus_Single</th>\n",
       "      <th>OverTime_Yes</th>\n",
       "    </tr>\n",
       "  </thead>\n",
       "  <tbody>\n",
       "    <tr>\n",
       "      <th>count</th>\n",
       "      <td>228.000000</td>\n",
       "      <td>228.000000</td>\n",
       "      <td>228.000000</td>\n",
       "      <td>228.000000</td>\n",
       "      <td>228.000000</td>\n",
       "      <td>228.000000</td>\n",
       "      <td>228.000000</td>\n",
       "      <td>228.000000</td>\n",
       "      <td>228.000000</td>\n",
       "      <td>228.000000</td>\n",
       "      <td>...</td>\n",
       "      <td>228.000000</td>\n",
       "      <td>228.000000</td>\n",
       "      <td>228.000000</td>\n",
       "      <td>228.000000</td>\n",
       "      <td>228.000000</td>\n",
       "      <td>228.000000</td>\n",
       "      <td>228.000000</td>\n",
       "      <td>228.000000</td>\n",
       "      <td>228.000000</td>\n",
       "      <td>228.000000</td>\n",
       "    </tr>\n",
       "    <tr>\n",
       "      <th>mean</th>\n",
       "      <td>733.491228</td>\n",
       "      <td>34.942982</td>\n",
       "      <td>1053.789474</td>\n",
       "      <td>8.697368</td>\n",
       "      <td>2.741228</td>\n",
       "      <td>2.688596</td>\n",
       "      <td>1.635965</td>\n",
       "      <td>2.798246</td>\n",
       "      <td>2.565789</td>\n",
       "      <td>15.188596</td>\n",
       "      <td>...</td>\n",
       "      <td>0.092105</td>\n",
       "      <td>0.043860</td>\n",
       "      <td>0.236842</td>\n",
       "      <td>0.114035</td>\n",
       "      <td>0.250000</td>\n",
       "      <td>0.210526</td>\n",
       "      <td>0.057018</td>\n",
       "      <td>0.438596</td>\n",
       "      <td>0.320175</td>\n",
       "      <td>0.307018</td>\n",
       "    </tr>\n",
       "    <tr>\n",
       "      <th>std</th>\n",
       "      <td>141.832391</td>\n",
       "      <td>8.662609</td>\n",
       "      <td>202.803174</td>\n",
       "      <td>7.640640</td>\n",
       "      <td>1.114052</td>\n",
       "      <td>0.717590</td>\n",
       "      <td>0.698599</td>\n",
       "      <td>1.112047</td>\n",
       "      <td>2.558576</td>\n",
       "      <td>3.546352</td>\n",
       "      <td>...</td>\n",
       "      <td>0.289811</td>\n",
       "      <td>0.205233</td>\n",
       "      <td>0.426080</td>\n",
       "      <td>0.318553</td>\n",
       "      <td>0.433965</td>\n",
       "      <td>0.408579</td>\n",
       "      <td>0.232386</td>\n",
       "      <td>0.497307</td>\n",
       "      <td>0.467570</td>\n",
       "      <td>0.462272</td>\n",
       "    </tr>\n",
       "    <tr>\n",
       "      <th>min</th>\n",
       "      <td>450.000000</td>\n",
       "      <td>18.000000</td>\n",
       "      <td>654.000000</td>\n",
       "      <td>1.000000</td>\n",
       "      <td>1.000000</td>\n",
       "      <td>1.000000</td>\n",
       "      <td>1.000000</td>\n",
       "      <td>1.000000</td>\n",
       "      <td>0.000000</td>\n",
       "      <td>11.000000</td>\n",
       "      <td>...</td>\n",
       "      <td>0.000000</td>\n",
       "      <td>0.000000</td>\n",
       "      <td>0.000000</td>\n",
       "      <td>0.000000</td>\n",
       "      <td>0.000000</td>\n",
       "      <td>0.000000</td>\n",
       "      <td>0.000000</td>\n",
       "      <td>0.000000</td>\n",
       "      <td>0.000000</td>\n",
       "      <td>0.000000</td>\n",
       "    </tr>\n",
       "    <tr>\n",
       "      <th>25%</th>\n",
       "      <td>618.500000</td>\n",
       "      <td>28.000000</td>\n",
       "      <td>886.500000</td>\n",
       "      <td>2.000000</td>\n",
       "      <td>2.000000</td>\n",
       "      <td>2.000000</td>\n",
       "      <td>1.000000</td>\n",
       "      <td>2.000000</td>\n",
       "      <td>1.000000</td>\n",
       "      <td>12.000000</td>\n",
       "      <td>...</td>\n",
       "      <td>0.000000</td>\n",
       "      <td>0.000000</td>\n",
       "      <td>0.000000</td>\n",
       "      <td>0.000000</td>\n",
       "      <td>0.000000</td>\n",
       "      <td>0.000000</td>\n",
       "      <td>0.000000</td>\n",
       "      <td>0.000000</td>\n",
       "      <td>0.000000</td>\n",
       "      <td>0.000000</td>\n",
       "    </tr>\n",
       "    <tr>\n",
       "      <th>50%</th>\n",
       "      <td>741.000000</td>\n",
       "      <td>34.000000</td>\n",
       "      <td>1014.500000</td>\n",
       "      <td>7.000000</td>\n",
       "      <td>3.000000</td>\n",
       "      <td>3.000000</td>\n",
       "      <td>2.000000</td>\n",
       "      <td>3.000000</td>\n",
       "      <td>1.000000</td>\n",
       "      <td>14.000000</td>\n",
       "      <td>...</td>\n",
       "      <td>0.000000</td>\n",
       "      <td>0.000000</td>\n",
       "      <td>0.000000</td>\n",
       "      <td>0.000000</td>\n",
       "      <td>0.000000</td>\n",
       "      <td>0.000000</td>\n",
       "      <td>0.000000</td>\n",
       "      <td>0.000000</td>\n",
       "      <td>0.000000</td>\n",
       "      <td>0.000000</td>\n",
       "    </tr>\n",
       "    <tr>\n",
       "      <th>75%</th>\n",
       "      <td>845.250000</td>\n",
       "      <td>40.000000</td>\n",
       "      <td>1208.250000</td>\n",
       "      <td>11.250000</td>\n",
       "      <td>4.000000</td>\n",
       "      <td>3.000000</td>\n",
       "      <td>2.000000</td>\n",
       "      <td>4.000000</td>\n",
       "      <td>4.000000</td>\n",
       "      <td>18.000000</td>\n",
       "      <td>...</td>\n",
       "      <td>0.000000</td>\n",
       "      <td>0.000000</td>\n",
       "      <td>0.000000</td>\n",
       "      <td>0.000000</td>\n",
       "      <td>0.250000</td>\n",
       "      <td>0.000000</td>\n",
       "      <td>0.000000</td>\n",
       "      <td>1.000000</td>\n",
       "      <td>1.000000</td>\n",
       "      <td>1.000000</td>\n",
       "    </tr>\n",
       "    <tr>\n",
       "      <th>max</th>\n",
       "      <td>1045.000000</td>\n",
       "      <td>60.000000</td>\n",
       "      <td>1492.000000</td>\n",
       "      <td>29.000000</td>\n",
       "      <td>4.000000</td>\n",
       "      <td>4.000000</td>\n",
       "      <td>3.000000</td>\n",
       "      <td>4.000000</td>\n",
       "      <td>9.000000</td>\n",
       "      <td>25.000000</td>\n",
       "      <td>...</td>\n",
       "      <td>1.000000</td>\n",
       "      <td>1.000000</td>\n",
       "      <td>1.000000</td>\n",
       "      <td>1.000000</td>\n",
       "      <td>1.000000</td>\n",
       "      <td>1.000000</td>\n",
       "      <td>1.000000</td>\n",
       "      <td>1.000000</td>\n",
       "      <td>1.000000</td>\n",
       "      <td>1.000000</td>\n",
       "    </tr>\n",
       "  </tbody>\n",
       "</table>\n",
       "<p>8 rows × 32 columns</p>\n",
       "</div>"
      ],
      "text/plain": [
       "        Unnamed: 0         Age    DailyRate  DistanceFromHome  \\\n",
       "count   228.000000  228.000000   228.000000        228.000000   \n",
       "mean    733.491228   34.942982  1053.789474          8.697368   \n",
       "std     141.832391    8.662609   202.803174          7.640640   \n",
       "min     450.000000   18.000000   654.000000          1.000000   \n",
       "25%     618.500000   28.000000   886.500000          2.000000   \n",
       "50%     741.000000   34.000000  1014.500000          7.000000   \n",
       "75%     845.250000   40.000000  1208.250000         11.250000   \n",
       "max    1045.000000   60.000000  1492.000000         29.000000   \n",
       "\n",
       "       EnvironmentSatisfaction  JobInvolvement    JobLevel  JobSatisfaction  \\\n",
       "count               228.000000      228.000000  228.000000       228.000000   \n",
       "mean                  2.741228        2.688596    1.635965         2.798246   \n",
       "std                   1.114052        0.717590    0.698599         1.112047   \n",
       "min                   1.000000        1.000000    1.000000         1.000000   \n",
       "25%                   2.000000        2.000000    1.000000         2.000000   \n",
       "50%                   3.000000        3.000000    2.000000         3.000000   \n",
       "75%                   4.000000        3.000000    2.000000         4.000000   \n",
       "max                   4.000000        4.000000    3.000000         4.000000   \n",
       "\n",
       "       NumCompaniesWorked  PercentSalaryHike  ...  \\\n",
       "count          228.000000         228.000000  ...   \n",
       "mean             2.565789          15.188596  ...   \n",
       "std              2.558576           3.546352  ...   \n",
       "min              0.000000          11.000000  ...   \n",
       "25%              1.000000          12.000000  ...   \n",
       "50%              1.000000          14.000000  ...   \n",
       "75%              4.000000          18.000000  ...   \n",
       "max              9.000000          25.000000  ...   \n",
       "\n",
       "       EducationField_Technical Degree  JobRole_Human Resources  \\\n",
       "count                       228.000000               228.000000   \n",
       "mean                          0.092105                 0.043860   \n",
       "std                           0.289811                 0.205233   \n",
       "min                           0.000000                 0.000000   \n",
       "25%                           0.000000                 0.000000   \n",
       "50%                           0.000000                 0.000000   \n",
       "75%                           0.000000                 0.000000   \n",
       "max                           1.000000                 1.000000   \n",
       "\n",
       "       JobRole_Laboratory Technician  JobRole_Manufacturing Director  \\\n",
       "count                     228.000000                      228.000000   \n",
       "mean                        0.236842                        0.114035   \n",
       "std                         0.426080                        0.318553   \n",
       "min                         0.000000                        0.000000   \n",
       "25%                         0.000000                        0.000000   \n",
       "50%                         0.000000                        0.000000   \n",
       "75%                         0.000000                        0.000000   \n",
       "max                         1.000000                        1.000000   \n",
       "\n",
       "       JobRole_Research Scientist  JobRole_Sales Executive  \\\n",
       "count                  228.000000               228.000000   \n",
       "mean                     0.250000                 0.210526   \n",
       "std                      0.433965                 0.408579   \n",
       "min                      0.000000                 0.000000   \n",
       "25%                      0.000000                 0.000000   \n",
       "50%                      0.000000                 0.000000   \n",
       "75%                      0.250000                 0.000000   \n",
       "max                      1.000000                 1.000000   \n",
       "\n",
       "       JobRole_Sales Representative  MaritalStatus_Married  \\\n",
       "count                    228.000000             228.000000   \n",
       "mean                       0.057018               0.438596   \n",
       "std                        0.232386               0.497307   \n",
       "min                        0.000000               0.000000   \n",
       "25%                        0.000000               0.000000   \n",
       "50%                        0.000000               0.000000   \n",
       "75%                        0.000000               1.000000   \n",
       "max                        1.000000               1.000000   \n",
       "\n",
       "       MaritalStatus_Single  OverTime_Yes  \n",
       "count            228.000000    228.000000  \n",
       "mean               0.320175      0.307018  \n",
       "std                0.467570      0.462272  \n",
       "min                0.000000      0.000000  \n",
       "25%                0.000000      0.000000  \n",
       "50%                0.000000      0.000000  \n",
       "75%                1.000000      1.000000  \n",
       "max                1.000000      1.000000  \n",
       "\n",
       "[8 rows x 32 columns]"
      ]
     },
     "execution_count": 68,
     "metadata": {},
     "output_type": "execute_result"
    }
   ],
   "source": [
    "print(len(df_new[labels==4]))\n",
    "df_new[labels==4].describe()"
   ]
  },
  {
   "cell_type": "markdown",
   "metadata": {},
   "source": [
    "# Hierarchical Clustering"
   ]
  },
  {
   "cell_type": "code",
   "execution_count": 69,
   "metadata": {},
   "outputs": [],
   "source": [
    "from scipy.cluster.hierarchy import linkage"
   ]
  },
  {
   "cell_type": "code",
   "execution_count": 70,
   "metadata": {},
   "outputs": [
    {
     "name": "stdout",
     "output_type": "stream",
     "text": [
      "(1248, 4)\n"
     ]
    }
   ],
   "source": [
    "link=linkage(df_new,method='single')\n",
    "\n",
    "print(link.shape)"
   ]
  },
  {
   "cell_type": "code",
   "execution_count": 71,
   "metadata": {},
   "outputs": [],
   "source": [
    "from scipy.cluster.hierarchy import dendrogram"
   ]
  },
  {
   "cell_type": "code",
   "execution_count": 72,
   "metadata": {},
   "outputs": [
    {
     "data": {
      "image/png": "[encoded data removed]",
      "text/plain": [
       "<Figure size 864x648 with 1 Axes>"
      ]
     },
     "metadata": {
      "needs_background": "light"
     },
     "output_type": "display_data"
    }
   ],
   "source": [
    "plt.figure(figsize=(12, 9))  \n",
    "#labelList = range(1, 5)\n",
    "_ = dendrogram(link,  \n",
    "           orientation='top')"
   ]
  },
  {
   "cell_type": "code",
   "execution_count": 73,
   "metadata": {},
   "outputs": [
    {
     "data": {
      "image/png": "[encoded data removed]",
      "text/plain": [
       "<Figure size 864x648 with 1 Axes>"
      ]
     },
     "metadata": {
      "needs_background": "light"
     },
     "output_type": "display_data"
    }
   ],
   "source": [
    "link=linkage(df_new,method='complete')\n",
    "plt.figure(figsize=(12, 9))  \n",
    "#labelList = range(1, 5)\n",
    "_ = dendrogram(link,  \n",
    "           orientation='top')"
   ]
  },
  {
   "cell_type": "code",
   "execution_count": null,
   "metadata": {},
   "outputs": [],
   "source": []
  }
 ],
 "metadata": {
  "kernelspec": {
   "display_name": "Python 3",
   "language": "python",
   "name": "python3"
  },
  "language_info": {
   "codemirror_mode": {
    "name": "ipython",
    "version": 3
   },
   "file_extension": ".py",
   "mimetype": "text/x-python",
   "name": "python",
   "nbconvert_exporter": "python",
   "pygments_lexer": "ipython3",
   "version": "3.7.3"
  }
 },
 "nbformat": 4,
 "nbformat_minor": 2
}
